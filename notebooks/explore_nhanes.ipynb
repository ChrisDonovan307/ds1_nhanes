{
 "cells": [
  {
   "cell_type": "markdown",
   "metadata": {},
   "source": [
    "# Explore NHANES\n",
    "\n",
    "This is a first swing at exploring NHANES datasets. Currently just working with the 2021-2023 survey and only using day 1 of the dietary recalls. "
   ]
  },
  {
   "cell_type": "markdown",
   "metadata": {
    "id": "bmdmBS2SlvUz"
   },
   "source": [
    "## Set Working Directory\n",
    "\n",
    "When you open a notebook, the default working directory will be the folder that notebook is in. We want it to be the top (root) directory of the project, 'ds1_nhanes'.\n",
    "\n",
    "First, we need to mount our Google Drive, which contains the `ds1_nhanes` folder:"
   ]
  },
  {
   "cell_type": "code",
   "execution_count": null,
   "metadata": {},
   "outputs": [],
   "source": [
    "from google.colab import drive\n",
    "drive.mount('/content/drive')"
   ]
  },
  {
   "cell_type": "markdown",
   "metadata": {},
   "source": [
    "Now check out current working directory:"
   ]
  },
  {
   "cell_type": "code",
   "execution_count": null,
   "metadata": {},
   "outputs": [],
   "source": [
    "import os\n",
    "os.getcwd()"
   ]
  },
  {
   "cell_type": "markdown",
   "metadata": {},
   "source": [
    "The working directory of the notebook defaults to the directory the notebook is in, so this is probably ds1_nhanes/notebooks. \n",
    "\n",
    "We want to change it to ds1_nhanes:"
   ]
  },
  {
   "cell_type": "code",
   "execution_count": null,
   "metadata": {},
   "outputs": [],
   "source": [
    "os.chdir('/content/drive/MyDrive/ds1_nhanes/')"
   ]
  },
  {
   "cell_type": "markdown",
   "metadata": {},
   "source": [
    "Bingo bongo, we're good to go.\n",
    "\n",
    "The below chunk should only be run locally, not with Colab"
   ]
  },
  {
   "cell_type": "code",
   "execution_count": null,
   "metadata": {},
   "outputs": [],
   "source": [
    "# Don't run\n",
    "\n",
    "# import os\n",
    "# from pathlib import Path\n",
    "# os.chdir(Path(os.getcwd()).parent)\n",
    "# print(os.getcwd())"
   ]
  },
  {
   "cell_type": "markdown",
   "metadata": {
    "id": "8-Zj2PKG7NDN"
   },
   "source": [
    "## Load Data and Libraries"
   ]
  },
  {
   "cell_type": "code",
   "execution_count": 4,
   "metadata": {
    "id": "Zx5mz_OZ6_L2"
   },
   "outputs": [],
   "source": [
    "import pandas as pd\n",
    "import numpy as np"
   ]
  },
  {
   "cell_type": "markdown",
   "metadata": {},
   "source": [
    "For now we are exploring the 2021-2023 wave dietary recall data for day 1."
   ]
  },
  {
   "cell_type": "code",
   "execution_count": 5,
   "metadata": {
    "id": "a2Fz02bE7PAu"
   },
   "outputs": [
    {
     "name": "stdout",
     "output_type": "stream",
     "text": [
      "<class 'pandas.core.frame.DataFrame'>\n",
      "RangeIndex: 100116 entries, 0 to 100115\n",
      "Data columns (total 84 columns):\n",
      " #   Column    Non-Null Count   Dtype  \n",
      "---  ------    --------------   -----  \n",
      " 0   SEQN      100116 non-null  float64\n",
      " 1   WTDRD1    100116 non-null  float64\n",
      " 2   WTDR2D    100116 non-null  float64\n",
      " 3   DR1ILINE  100116 non-null  float64\n",
      " 4   DR1DRSTZ  100116 non-null  float64\n",
      " 5   DR1EXMER  100116 non-null  float64\n",
      " 6   DRABF     99847 non-null   float64\n",
      " 7   DRDINT    100116 non-null  float64\n",
      " 8   DR1DBIH   94128 non-null   float64\n",
      " 9   DR1DAY    100116 non-null  float64\n",
      " 10  DR1LANG   100025 non-null  float64\n",
      " 11  DR1CCMNM  100116 non-null  float64\n",
      " 12  DR1CCMTX  100116 non-null  float64\n",
      " 13  DR1_020   100116 non-null  float64\n",
      " 14  DR1_030Z  100116 non-null  float64\n",
      " 15  DR1FS     92784 non-null   float64\n",
      " 16  DR1_040Z  99787 non-null   float64\n",
      " 17  DR1IFDCD  100116 non-null  float64\n",
      " 18  DR1IGRMS  99787 non-null   float64\n",
      " 19  DR1IKCAL  99787 non-null   float64\n",
      " 20  DR1IPROT  99787 non-null   float64\n",
      " 21  DR1ICARB  99787 non-null   float64\n",
      " 22  DR1ISUGR  99787 non-null   float64\n",
      " 23  DR1IFIBE  99787 non-null   float64\n",
      " 24  DR1ITFAT  99787 non-null   float64\n",
      " 25  DR1ISFAT  99787 non-null   float64\n",
      " 26  DR1IMFAT  99787 non-null   float64\n",
      " 27  DR1IPFAT  99787 non-null   float64\n",
      " 28  DR1ICHOL  99787 non-null   float64\n",
      " 29  DR1IATOC  99787 non-null   float64\n",
      " 30  DR1IATOA  99787 non-null   float64\n",
      " 31  DR1IRET   99787 non-null   float64\n",
      " 32  DR1IVARA  99787 non-null   float64\n",
      " 33  DR1IACAR  99787 non-null   float64\n",
      " 34  DR1IBCAR  99787 non-null   float64\n",
      " 35  DR1ICRYP  99787 non-null   float64\n",
      " 36  DR1ILYCO  99787 non-null   float64\n",
      " 37  DR1ILZ    99787 non-null   float64\n",
      " 38  DR1IVB1   99787 non-null   float64\n",
      " 39  DR1IVB2   99787 non-null   float64\n",
      " 40  DR1INIAC  99787 non-null   float64\n",
      " 41  DR1IVB6   99787 non-null   float64\n",
      " 42  DR1IFOLA  99787 non-null   float64\n",
      " 43  DR1IFA    99787 non-null   float64\n",
      " 44  DR1IFF    99787 non-null   float64\n",
      " 45  DR1IFDFE  99787 non-null   float64\n",
      " 46  DR1ICHL   99787 non-null   float64\n",
      " 47  DR1IVB12  99787 non-null   float64\n",
      " 48  DR1IB12A  99787 non-null   float64\n",
      " 49  DR1IVC    99787 non-null   float64\n",
      " 50  DR1IVD    99787 non-null   float64\n",
      " 51  DR1IVK    99787 non-null   float64\n",
      " 52  DR1ICALC  99787 non-null   float64\n",
      " 53  DR1IPHOS  99787 non-null   float64\n",
      " 54  DR1IMAGN  99787 non-null   float64\n",
      " 55  DR1IIRON  99787 non-null   float64\n",
      " 56  DR1IZINC  99787 non-null   float64\n",
      " 57  DR1ICOPP  99787 non-null   float64\n",
      " 58  DR1ISODI  99787 non-null   float64\n",
      " 59  DR1IPOTA  99787 non-null   float64\n",
      " 60  DR1ISELE  99787 non-null   float64\n",
      " 61  DR1ICAFF  99787 non-null   float64\n",
      " 62  DR1ITHEO  99787 non-null   float64\n",
      " 63  DR1IALCO  99787 non-null   float64\n",
      " 64  DR1IMOIS  99787 non-null   float64\n",
      " 65  DR1IS040  99787 non-null   float64\n",
      " 66  DR1IS060  99787 non-null   float64\n",
      " 67  DR1IS080  99787 non-null   float64\n",
      " 68  DR1IS100  99787 non-null   float64\n",
      " 69  DR1IS120  99787 non-null   float64\n",
      " 70  DR1IS140  99787 non-null   float64\n",
      " 71  DR1IS160  99787 non-null   float64\n",
      " 72  DR1IS180  99787 non-null   float64\n",
      " 73  DR1IM161  99787 non-null   float64\n",
      " 74  DR1IM181  99787 non-null   float64\n",
      " 75  DR1IM201  99787 non-null   float64\n",
      " 76  DR1IM221  99787 non-null   float64\n",
      " 77  DR1IP182  99787 non-null   float64\n",
      " 78  DR1IP183  99787 non-null   float64\n",
      " 79  DR1IP184  99787 non-null   float64\n",
      " 80  DR1IP204  99787 non-null   float64\n",
      " 81  DR1IP205  99787 non-null   float64\n",
      " 82  DR1IP225  99787 non-null   float64\n",
      " 83  DR1IP226  99787 non-null   float64\n",
      "dtypes: float64(84)\n",
      "memory usage: 64.2 MB\n"
     ]
    }
   ],
   "source": [
    "df = pd.read_sas('data/raw/nhanes_2021_2023/DR1IFF_L.xpt')\n",
    "df.info()"
   ]
  },
  {
   "cell_type": "markdown",
   "metadata": {
    "id": "ir4oDBFVn8KX"
   },
   "source": [
    "## Create key for DR1IFF\n",
    "\n",
    "Creating a df to be saved as .csv that includes definitions of every variable in the DR1 data. I'm pretty sure there is a better way to do this, because when you pull the data in R you can see these definitions are attributes. But I don't know how to find those attributes in python. "
   ]
  },
  {
   "cell_type": "code",
   "execution_count": 6,
   "metadata": {
    "id": "U1ZMenJBj8UG"
   },
   "outputs": [
    {
     "name": "stdout",
     "output_type": "stream",
     "text": [
      "\"SEQN\": \"\",  # \n",
      "\"WTDRD1\": \"\",  # \n",
      "\"WTDR2D\": \"\",  # \n",
      "\"DR1ILINE\": \"\",  # \n",
      "\"DR1DRSTZ\": \"\",  # \n",
      "\"DR1EXMER\": \"\",  # \n",
      "\"DRABF\": \"\",  # \n",
      "\"DRDINT\": \"\",  # \n",
      "\"DR1DBIH\": \"\",  # \n",
      "\"DR1DAY\": \"\",  # \n",
      "\"DR1LANG\": \"\",  # \n",
      "\"DR1CCMNM\": \"\",  # \n",
      "\"DR1CCMTX\": \"\",  # \n",
      "\"DR1_020\": \"\",  # \n",
      "\"DR1_030Z\": \"\",  # \n",
      "\"DR1FS\": \"\",  # \n",
      "\"DR1_040Z\": \"\",  # \n",
      "\"DR1IFDCD\": \"\",  # \n",
      "\"DR1IGRMS\": \"\",  # \n",
      "\"DR1IKCAL\": \"\",  # \n",
      "\"DR1IPROT\": \"\",  # \n",
      "\"DR1ICARB\": \"\",  # \n",
      "\"DR1ISUGR\": \"\",  # \n",
      "\"DR1IFIBE\": \"\",  # \n",
      "\"DR1ITFAT\": \"\",  # \n",
      "\"DR1ISFAT\": \"\",  # \n",
      "\"DR1IMFAT\": \"\",  # \n",
      "\"DR1IPFAT\": \"\",  # \n",
      "\"DR1ICHOL\": \"\",  # \n",
      "\"DR1IATOC\": \"\",  # \n",
      "\"DR1IATOA\": \"\",  # \n",
      "\"DR1IRET\": \"\",  # \n",
      "\"DR1IVARA\": \"\",  # \n",
      "\"DR1IACAR\": \"\",  # \n",
      "\"DR1IBCAR\": \"\",  # \n",
      "\"DR1ICRYP\": \"\",  # \n",
      "\"DR1ILYCO\": \"\",  # \n",
      "\"DR1ILZ\": \"\",  # \n",
      "\"DR1IVB1\": \"\",  # \n",
      "\"DR1IVB2\": \"\",  # \n",
      "\"DR1INIAC\": \"\",  # \n",
      "\"DR1IVB6\": \"\",  # \n",
      "\"DR1IFOLA\": \"\",  # \n",
      "\"DR1IFA\": \"\",  # \n",
      "\"DR1IFF\": \"\",  # \n",
      "\"DR1IFDFE\": \"\",  # \n",
      "\"DR1ICHL\": \"\",  # \n",
      "\"DR1IVB12\": \"\",  # \n",
      "\"DR1IB12A\": \"\",  # \n",
      "\"DR1IVC\": \"\",  # \n",
      "\"DR1IVD\": \"\",  # \n",
      "\"DR1IVK\": \"\",  # \n",
      "\"DR1ICALC\": \"\",  # \n",
      "\"DR1IPHOS\": \"\",  # \n",
      "\"DR1IMAGN\": \"\",  # \n",
      "\"DR1IIRON\": \"\",  # \n",
      "\"DR1IZINC\": \"\",  # \n",
      "\"DR1ICOPP\": \"\",  # \n",
      "\"DR1ISODI\": \"\",  # \n",
      "\"DR1IPOTA\": \"\",  # \n",
      "\"DR1ISELE\": \"\",  # \n",
      "\"DR1ICAFF\": \"\",  # \n",
      "\"DR1ITHEO\": \"\",  # \n",
      "\"DR1IALCO\": \"\",  # \n",
      "\"DR1IMOIS\": \"\",  # \n",
      "\"DR1IS040\": \"\",  # \n",
      "\"DR1IS060\": \"\",  # \n",
      "\"DR1IS080\": \"\",  # \n",
      "\"DR1IS100\": \"\",  # \n",
      "\"DR1IS120\": \"\",  # \n",
      "\"DR1IS140\": \"\",  # \n",
      "\"DR1IS160\": \"\",  # \n",
      "\"DR1IS180\": \"\",  # \n",
      "\"DR1IM161\": \"\",  # \n",
      "\"DR1IM181\": \"\",  # \n",
      "\"DR1IM201\": \"\",  # \n",
      "\"DR1IM221\": \"\",  # \n",
      "\"DR1IP182\": \"\",  # \n",
      "\"DR1IP183\": \"\",  # \n",
      "\"DR1IP184\": \"\",  # \n",
      "\"DR1IP204\": \"\",  # \n",
      "\"DR1IP205\": \"\",  # \n",
      "\"DR1IP225\": \"\",  # \n",
      "\"DR1IP226\": \"\",  # \n"
     ]
    }
   ],
   "source": [
    "# Get a printout of each column name as a template\n",
    "# We will copy and paste this into next cell so we can write definitions\n",
    "column_definitions = {col: \"\" for col in df.columns}\n",
    "for col in column_definitions:\n",
    "    print(f'\"{col}\": \"\",  # ')"
   ]
  },
  {
   "cell_type": "code",
   "execution_count": 7,
   "metadata": {
    "id": "Mzc6NyUdv9ls"
   },
   "outputs": [
    {
     "name": "stdout",
     "output_type": "stream",
     "text": [
      "['respondent_sequence_number', 'weight_day_1_dietary', 'weight_day_2_dietary', 'food_component_number', 'dietary_recall_status', 'interviewer_id_code', 'breast_fed_infant', 'number_of_days_of_intake', 'days_between_intake_and_interview', 'intake_day_of_week', 'language', 'combination_food_number', 'combination_food_type', 'time_of_meal', 'name_of_meal', 'food_source', 'ate_at_home', 'usda_food_code', 'grams', 'energy_kcal', 'protein_gm', 'carbohydrate_gm', 'sugar_gm', 'fiber_gm', 'fat_gm', 'saturated_fat_gm', 'monounsaturated_fat_gm', 'polyunsaturated_fat_gm', 'cholesterol_mg', 'vitamin_e_mcg', 'added_vitamin_e_mcg', 'retinol_mcg', 'vitamin_a_mcg', 'alpha_carotene_mcg', 'beta_carotene_mcg', 'beta_cryptoxanthin_mcg', 'lycopene_mcg', 'lutein_zeaxanthin_mcg', 'vitamin_b1_mcg', 'vitamin_b2_mcg', 'niacin_mg', 'vitamin_b6_mcg', 'folate_mcg', 'folic_acid_mcg', 'food_folate_mcg', 'folate_dfe_mcg', 'choline_mg', 'vitamin_b12_mcg', 'added_vitamin_b12_mcg', 'vitamin_c_mg', 'vitamin_d_mcg', 'vitamin_k_mcg', 'calcium_mg', 'phosphorus_mg', 'magnesium_mg', 'iron_mg', 'zinc_mg', 'copper_mg', 'sodium_mg', 'potassium_mg', 'selenium_mcg', 'caffeine_mg', 'theobromine_mg', 'alcohol_gm', 'moisture_gm', 'sfa_40_gm', 'sfa_60_gm', 'sfa_80_gm', 'sfa_100_gm', 'sfa_120_gm', 'sfa_140_gm', 'sfa_160_gm', 'sfa_180_gm', 'mfa_161_gm', 'mfa_181_gm', 'mfa_201_gm', 'mfa_221_gm', 'pfa_182_gm', 'pfa_183_gm', 'pfa_184_gm', 'pfa_204_gm', 'pfa_205_gm', 'pfa_225_gm', 'pfa_226_gm']\n"
     ]
    }
   ],
   "source": [
    "# Make a df with column names and definitions\n",
    "definitions = [\n",
    "    'respondent_sequence_number', # respondent id\n",
    "    'weight_day_1_dietary',\n",
    "    'weight_day_2_dietary',\n",
    "    'food_component_number',\n",
    "    'dietary_recall_status',\n",
    "    'interviewer_id_code',\n",
    "    'breast_fed_infant',\n",
    "    'number_of_days_of_intake',\n",
    "    'days_between_intake_and_interview',\n",
    "    'intake_day_of_week',\n",
    "\n",
    "    'language',\n",
    "    'combination_food_number',\n",
    "    'combination_food_type',\n",
    "    'time_of_meal',\n",
    "    'name_of_meal',\n",
    "    'food_source',\n",
    "    'ate_at_home',\n",
    "    'usda_food_code', # Use these to link to FPED\n",
    "    'grams',\n",
    "    'energy_kcal',\n",
    "\n",
    "    'protein_gm',\n",
    "    'carbohydrate_gm',\n",
    "    'sugar_gm',\n",
    "    'fiber_gm',\n",
    "    'fat_gm',\n",
    "    'saturated_fat_gm',\n",
    "    'monounsaturated_fat_gm',\n",
    "    'polyunsaturated_fat_gm',\n",
    "    'cholesterol_mg',\n",
    "    'vitamin_e_mcg',\n",
    "\n",
    "    'added_vitamin_e_mcg',\n",
    "    'retinol_mcg',\n",
    "    'vitamin_a_mcg',\n",
    "    'alpha_carotene_mcg',\n",
    "    'beta_carotene_mcg',\n",
    "    'beta_cryptoxanthin_mcg',\n",
    "    'lycopene_mcg',\n",
    "    'lutein_zeaxanthin_mcg',\n",
    "    'vitamin_b1_mcg',\n",
    "    'vitamin_b2_mcg',\n",
    "\n",
    "    'niacin_mg',\n",
    "    'vitamin_b6_mcg',\n",
    "    'folate_mcg',\n",
    "    'folic_acid_mcg',\n",
    "    'food_folate_mcg',\n",
    "    'folate_dfe_mcg',\n",
    "    'choline_mg',\n",
    "    'vitamin_b12_mcg',\n",
    "    'added_vitamin_b12_mcg',\n",
    "    'vitamin_c_mg',\n",
    "\n",
    "    'vitamin_d_mcg',\n",
    "    'vitamin_k_mcg',\n",
    "    'calcium_mg',\n",
    "    'phosphorus_mg',\n",
    "    'magnesium_mg',\n",
    "    'iron_mg',\n",
    "    'zinc_mg',\n",
    "    'copper_mg',\n",
    "    'sodium_mg',\n",
    "    'potassium_mg',\n",
    "\n",
    "    'selenium_mcg',\n",
    "    'caffeine_mg',\n",
    "    'theobromine_mg',\n",
    "    'alcohol_gm',\n",
    "    'moisture_gm',\n",
    "    'sfa_40_gm',\n",
    "    'sfa_60_gm',\n",
    "    'sfa_80_gm',\n",
    "    'sfa_100_gm',\n",
    "    'sfa_120_gm',\n",
    "\n",
    "    'sfa_140_gm',\n",
    "    'sfa_160_gm',\n",
    "    'sfa_180_gm',\n",
    "    'mfa_161_gm',\n",
    "    'mfa_181_gm',\n",
    "    'mfa_201_gm',\n",
    "    'mfa_221_gm',\n",
    "    'pfa_182_gm',\n",
    "    'pfa_183_gm',\n",
    "    'pfa_184_gm',\n",
    "\n",
    "    'pfa_204_gm',\n",
    "    'pfa_205_gm',\n",
    "    'pfa_225_gm',\n",
    "    'pfa_226_gm'\n",
    "]\n",
    "print(definitions)"
   ]
  },
  {
   "cell_type": "code",
   "execution_count": 8,
   "metadata": {
    "id": "N9YgiG14wH6E"
   },
   "outputs": [
    {
     "data": {
      "text/html": [
       "<div>\n",
       "<style scoped>\n",
       "    .dataframe tbody tr th:only-of-type {\n",
       "        vertical-align: middle;\n",
       "    }\n",
       "\n",
       "    .dataframe tbody tr th {\n",
       "        vertical-align: top;\n",
       "    }\n",
       "\n",
       "    .dataframe thead th {\n",
       "        text-align: right;\n",
       "    }\n",
       "</style>\n",
       "<table border=\"1\" class=\"dataframe\">\n",
       "  <thead>\n",
       "    <tr style=\"text-align: right;\">\n",
       "      <th></th>\n",
       "      <th>variable_name</th>\n",
       "      <th>definition</th>\n",
       "    </tr>\n",
       "  </thead>\n",
       "  <tbody>\n",
       "    <tr>\n",
       "      <th>0</th>\n",
       "      <td>SEQN</td>\n",
       "      <td>respondent_sequence_number</td>\n",
       "    </tr>\n",
       "    <tr>\n",
       "      <th>1</th>\n",
       "      <td>WTDRD1</td>\n",
       "      <td>weight_day_1_dietary</td>\n",
       "    </tr>\n",
       "    <tr>\n",
       "      <th>2</th>\n",
       "      <td>WTDR2D</td>\n",
       "      <td>weight_day_2_dietary</td>\n",
       "    </tr>\n",
       "    <tr>\n",
       "      <th>3</th>\n",
       "      <td>DR1ILINE</td>\n",
       "      <td>food_component_number</td>\n",
       "    </tr>\n",
       "    <tr>\n",
       "      <th>4</th>\n",
       "      <td>DR1DRSTZ</td>\n",
       "      <td>dietary_recall_status</td>\n",
       "    </tr>\n",
       "  </tbody>\n",
       "</table>\n",
       "</div>"
      ],
      "text/plain": [
       "  variable_name                  definition\n",
       "0          SEQN  respondent_sequence_number\n",
       "1        WTDRD1        weight_day_1_dietary\n",
       "2        WTDR2D        weight_day_2_dietary\n",
       "3      DR1ILINE       food_component_number\n",
       "4      DR1DRSTZ       dietary_recall_status"
      ]
     },
     "execution_count": 8,
     "metadata": {},
     "output_type": "execute_result"
    }
   ],
   "source": [
    "definitions = pd.DataFrame({'variable_name': df.columns, 'definition': definitions})\n",
    "definitions.head()"
   ]
  },
  {
   "cell_type": "code",
   "execution_count": 9,
   "metadata": {
    "executionInfo": {
     "elapsed": 34,
     "status": "ok",
     "timestamp": 1741490482370,
     "user": {
      "displayName": "Christopher Donovan",
      "userId": "08763921350367890499"
     },
     "user_tz": 300
    },
    "id": "rNDcAB9GwCLv"
   },
   "outputs": [],
   "source": [
    "# Save definitions to objects folder\n",
    "definitions.to_csv('data/miscellany/dr1_definitions_2021.csv')"
   ]
  },
  {
   "cell_type": "markdown",
   "metadata": {
    "id": "JVX4IziU5BJR"
   },
   "source": [
    "## Explore Dietary Recall Data"
   ]
  },
  {
   "cell_type": "code",
   "execution_count": 10,
   "metadata": {
    "id": "mFvXbbE65FVL"
   },
   "outputs": [
    {
     "name": "stdout",
     "output_type": "stream",
     "text": [
      "<class 'pandas.core.frame.DataFrame'>\n",
      "RangeIndex: 100116 entries, 0 to 100115\n",
      "Data columns (total 84 columns):\n",
      " #   Column    Non-Null Count   Dtype  \n",
      "---  ------    --------------   -----  \n",
      " 0   SEQN      100116 non-null  float64\n",
      " 1   WTDRD1    100116 non-null  float64\n",
      " 2   WTDR2D    100116 non-null  float64\n",
      " 3   DR1ILINE  100116 non-null  float64\n",
      " 4   DR1DRSTZ  100116 non-null  float64\n",
      " 5   DR1EXMER  100116 non-null  float64\n",
      " 6   DRABF     99847 non-null   float64\n",
      " 7   DRDINT    100116 non-null  float64\n",
      " 8   DR1DBIH   94128 non-null   float64\n",
      " 9   DR1DAY    100116 non-null  float64\n",
      " 10  DR1LANG   100025 non-null  float64\n",
      " 11  DR1CCMNM  100116 non-null  float64\n",
      " 12  DR1CCMTX  100116 non-null  float64\n",
      " 13  DR1_020   100116 non-null  float64\n",
      " 14  DR1_030Z  100116 non-null  float64\n",
      " 15  DR1FS     92784 non-null   float64\n",
      " 16  DR1_040Z  99787 non-null   float64\n",
      " 17  DR1IFDCD  100116 non-null  float64\n",
      " 18  DR1IGRMS  99787 non-null   float64\n",
      " 19  DR1IKCAL  99787 non-null   float64\n",
      " 20  DR1IPROT  99787 non-null   float64\n",
      " 21  DR1ICARB  99787 non-null   float64\n",
      " 22  DR1ISUGR  99787 non-null   float64\n",
      " 23  DR1IFIBE  99787 non-null   float64\n",
      " 24  DR1ITFAT  99787 non-null   float64\n",
      " 25  DR1ISFAT  99787 non-null   float64\n",
      " 26  DR1IMFAT  99787 non-null   float64\n",
      " 27  DR1IPFAT  99787 non-null   float64\n",
      " 28  DR1ICHOL  99787 non-null   float64\n",
      " 29  DR1IATOC  99787 non-null   float64\n",
      " 30  DR1IATOA  99787 non-null   float64\n",
      " 31  DR1IRET   99787 non-null   float64\n",
      " 32  DR1IVARA  99787 non-null   float64\n",
      " 33  DR1IACAR  99787 non-null   float64\n",
      " 34  DR1IBCAR  99787 non-null   float64\n",
      " 35  DR1ICRYP  99787 non-null   float64\n",
      " 36  DR1ILYCO  99787 non-null   float64\n",
      " 37  DR1ILZ    99787 non-null   float64\n",
      " 38  DR1IVB1   99787 non-null   float64\n",
      " 39  DR1IVB2   99787 non-null   float64\n",
      " 40  DR1INIAC  99787 non-null   float64\n",
      " 41  DR1IVB6   99787 non-null   float64\n",
      " 42  DR1IFOLA  99787 non-null   float64\n",
      " 43  DR1IFA    99787 non-null   float64\n",
      " 44  DR1IFF    99787 non-null   float64\n",
      " 45  DR1IFDFE  99787 non-null   float64\n",
      " 46  DR1ICHL   99787 non-null   float64\n",
      " 47  DR1IVB12  99787 non-null   float64\n",
      " 48  DR1IB12A  99787 non-null   float64\n",
      " 49  DR1IVC    99787 non-null   float64\n",
      " 50  DR1IVD    99787 non-null   float64\n",
      " 51  DR1IVK    99787 non-null   float64\n",
      " 52  DR1ICALC  99787 non-null   float64\n",
      " 53  DR1IPHOS  99787 non-null   float64\n",
      " 54  DR1IMAGN  99787 non-null   float64\n",
      " 55  DR1IIRON  99787 non-null   float64\n",
      " 56  DR1IZINC  99787 non-null   float64\n",
      " 57  DR1ICOPP  99787 non-null   float64\n",
      " 58  DR1ISODI  99787 non-null   float64\n",
      " 59  DR1IPOTA  99787 non-null   float64\n",
      " 60  DR1ISELE  99787 non-null   float64\n",
      " 61  DR1ICAFF  99787 non-null   float64\n",
      " 62  DR1ITHEO  99787 non-null   float64\n",
      " 63  DR1IALCO  99787 non-null   float64\n",
      " 64  DR1IMOIS  99787 non-null   float64\n",
      " 65  DR1IS040  99787 non-null   float64\n",
      " 66  DR1IS060  99787 non-null   float64\n",
      " 67  DR1IS080  99787 non-null   float64\n",
      " 68  DR1IS100  99787 non-null   float64\n",
      " 69  DR1IS120  99787 non-null   float64\n",
      " 70  DR1IS140  99787 non-null   float64\n",
      " 71  DR1IS160  99787 non-null   float64\n",
      " 72  DR1IS180  99787 non-null   float64\n",
      " 73  DR1IM161  99787 non-null   float64\n",
      " 74  DR1IM181  99787 non-null   float64\n",
      " 75  DR1IM201  99787 non-null   float64\n",
      " 76  DR1IM221  99787 non-null   float64\n",
      " 77  DR1IP182  99787 non-null   float64\n",
      " 78  DR1IP183  99787 non-null   float64\n",
      " 79  DR1IP184  99787 non-null   float64\n",
      " 80  DR1IP204  99787 non-null   float64\n",
      " 81  DR1IP205  99787 non-null   float64\n",
      " 82  DR1IP225  99787 non-null   float64\n",
      " 83  DR1IP226  99787 non-null   float64\n",
      "dtypes: float64(84)\n",
      "memory usage: 64.2 MB\n"
     ]
    }
   ],
   "source": [
    "df.info()"
   ]
  },
  {
   "cell_type": "markdown",
   "metadata": {},
   "source": [
    "Compare the dimensions of the df with the number of unique SEQN numbers (respondent ids)"
   ]
  },
  {
   "cell_type": "code",
   "execution_count": 11,
   "metadata": {
    "id": "ApGkuYMD5G59"
   },
   "outputs": [
    {
     "name": "stdout",
     "output_type": "stream",
     "text": [
      "There are 100116 columns and 6751 unique SEQN numbers.\n"
     ]
    }
   ],
   "source": [
    "# Compare rows to unique respondent IDs\n",
    "# first get number of rows\n",
    "columns = df.shape[0]\n",
    "unique_seqns = df['SEQN'].nunique()\n",
    "print(f\"There are {columns} columns and {unique_seqns} unique SEQN numbers.\")"
   ]
  },
  {
   "cell_type": "markdown",
   "metadata": {
    "id": "pW9P9alh5UO_"
   },
   "source": [
    "There are far more rows than unique respondents. This is because for each respondent, there is one row for each individual food they consumed.\n",
    "\n",
    "Check out how many unique food codes there are:"
   ]
  },
  {
   "cell_type": "code",
   "execution_count": 12,
   "metadata": {
    "id": "hvTiw0nz5nLs"
   },
   "outputs": [
    {
     "name": "stdout",
     "output_type": "stream",
     "text": [
      "There are 3987 unique food codes\n"
     ]
    }
   ],
   "source": [
    "n_codes = df['DR1IFDCD'].nunique()\n",
    "print(f\"There are {n_codes} unique food codes\")"
   ]
  },
  {
   "cell_type": "markdown",
   "metadata": {
    "id": "V0tU3Z3U53G5"
   },
   "source": [
    "## Join with FPED\n",
    "\n",
    "To identify the foods from food codes, we join with the Food Patterns Equivalents Database (FPED). This links it to the ~39 USDA food categories that correspond to national dietary recommendations. It also converts from sensible units like grams to American units like cups."
   ]
  },
  {
   "cell_type": "code",
   "execution_count": 13,
   "metadata": {
    "id": "93A70Gff59aA"
   },
   "outputs": [
    {
     "name": "stdout",
     "output_type": "stream",
     "text": [
      "<class 'pandas.core.frame.DataFrame'>\n",
      "RangeIndex: 7444 entries, 0 to 7443\n",
      "Data columns (total 39 columns):\n",
      " #   Column                     Non-Null Count  Dtype  \n",
      "---  ------                     --------------  -----  \n",
      " 0   FOODCODE                   7444 non-null   int64  \n",
      " 1   DESCRIPTION                7444 non-null   object \n",
      " 2   F_TOTAL (cup eq)           7444 non-null   float64\n",
      " 3   F_CITMLB (cup eq)          7444 non-null   float64\n",
      " 4   F_OTHER (cup eq)           7444 non-null   float64\n",
      " 5   F_JUICE (cup eq)           7444 non-null   float64\n",
      " 6   V_TOTAL (cup eq)           7444 non-null   float64\n",
      " 7   V_DRKGR (cup eq)           7444 non-null   float64\n",
      " 8   V_REDOR_TOTAL (cup eq)     7444 non-null   float64\n",
      " 9   V_REDOR_TOMATO (cup eq)    7444 non-null   float64\n",
      " 10  V_REDOR_OTHER (cup eq)     7444 non-null   float64\n",
      " 11  V_STARCHY_TOTAL (cup eq)   7444 non-null   float64\n",
      " 12  V_STARCHY_POTATO (cup eq)  7444 non-null   float64\n",
      " 13  V_STARCHY_OTHER (cup eq)   7444 non-null   float64\n",
      " 14  V_OTHER (cup eq)           7444 non-null   float64\n",
      " 15  V_LEGUMES (cup eq)         7444 non-null   float64\n",
      " 16  G_TOTAL (oz eq)            7444 non-null   float64\n",
      " 17  G_WHOLE (oz eq)            7444 non-null   float64\n",
      " 18  G_REFINED (oz eq)          7444 non-null   float64\n",
      " 19  PF_TOTAL (oz eq)           7444 non-null   float64\n",
      " 20  PF_MPS_TOTAL (oz eq)       7444 non-null   float64\n",
      " 21  PF_MEAT (oz eq)            7444 non-null   float64\n",
      " 22  PF_CUREDMEAT (oz eq)       7444 non-null   float64\n",
      " 23  PF_ORGAN (oz eq)           7444 non-null   float64\n",
      " 24  PF_POULT (oz eq)           7444 non-null   float64\n",
      " 25  PF_SEAFD_HI (oz eq)        7444 non-null   float64\n",
      " 26  PF_SEAFD_LOW (oz eq)       7444 non-null   float64\n",
      " 27  PF_EGGS (oz eq)            7444 non-null   float64\n",
      " 28  PF_SOY (oz eq)             7444 non-null   float64\n",
      " 29  PF_NUTSDS (oz eq)          7444 non-null   float64\n",
      " 30  PF_LEGUMES (oz eq)         7444 non-null   float64\n",
      " 31  D_TOTAL (cup eq)           7444 non-null   float64\n",
      " 32  D_MILK (cup eq)            7444 non-null   float64\n",
      " 33  D_YOGURT (cup eq)          7444 non-null   float64\n",
      " 34  D_CHEESE (cup eq)          7444 non-null   float64\n",
      " 35  OILS (grams)               7444 non-null   float64\n",
      " 36  SOLID_FATS (grams)         7444 non-null   float64\n",
      " 37  ADD_SUGARS (tsp eq)        7444 non-null   float64\n",
      " 38  A_DRINKS (no. of drinks)   7444 non-null   float64\n",
      "dtypes: float64(37), int64(1), object(1)\n",
      "memory usage: 2.2+ MB\n"
     ]
    }
   ],
   "source": [
    "fped = pd.read_csv('data/miscellany/FPED_1720.csv')\n",
    "fped.info()"
   ]
  },
  {
   "cell_type": "markdown",
   "metadata": {},
   "source": [
    "Get the column names which identify food codes as containing any amount of legumes, nuts/seeds, or soy:"
   ]
  },
  {
   "cell_type": "code",
   "execution_count": 14,
   "metadata": {},
   "outputs": [
    {
     "name": "stdout",
     "output_type": "stream",
     "text": [
      "['V_LEGUMES (cup eq)', 'PF_SOY (oz eq)', 'PF_NUTSDS (oz eq)', 'PF_LEGUMES (oz eq)']\n"
     ]
    }
   ],
   "source": [
    "# Keywords we will use to find column names\n",
    "keywords = ['LEGUMES', 'NUTSDS', 'SOY']\n",
    "pbp_columns = [col for col in fped.columns if any(keyword in col for keyword in keywords)]\n",
    "print(pbp_columns)"
   ]
  },
  {
   "cell_type": "markdown",
   "metadata": {},
   "source": [
    "Note that we have two PF (protein and fat) variables, and one V (vegetable?) variable. If we are only interested in proteins specifically, we should just take the PF variables.\n",
    "\n",
    "Now identify the food codes that are PBPs:"
   ]
  },
  {
   "cell_type": "code",
   "execution_count": 15,
   "metadata": {},
   "outputs": [
    {
     "name": "stdout",
     "output_type": "stream",
     "text": [
      "There are 800 unique PBP food codes\n"
     ]
    }
   ],
   "source": [
    "# Condition is that any one of those columns says the food code has more some amount of it\n",
    "condition = (fped[pbp_columns] > 0).any(axis=1)\n",
    "\n",
    "# Filter by the condition\n",
    "pbp_codes = fped.loc[condition, 'FOODCODE']\n",
    "\n",
    "# Print number of unique codes\n",
    "n_codes = len(pbp_codes)\n",
    "print(f'There are {n_codes} unique PBP food codes')"
   ]
  },
  {
   "cell_type": "markdown",
   "metadata": {},
   "source": [
    "Make a column that identifies whether foods are PBPs or not:"
   ]
  },
  {
   "cell_type": "code",
   "execution_count": 18,
   "metadata": {},
   "outputs": [
    {
     "name": "stdout",
     "output_type": "stream",
     "text": [
      "<class 'pandas.core.frame.DataFrame'>\n",
      "RangeIndex: 100116 entries, 0 to 100115\n",
      "Data columns (total 85 columns):\n",
      " #   Column    Non-Null Count   Dtype  \n",
      "---  ------    --------------   -----  \n",
      " 0   SEQN      100116 non-null  float64\n",
      " 1   WTDRD1    100116 non-null  float64\n",
      " 2   WTDR2D    100116 non-null  float64\n",
      " 3   DR1ILINE  100116 non-null  float64\n",
      " 4   DR1DRSTZ  100116 non-null  float64\n",
      " 5   DR1EXMER  100116 non-null  float64\n",
      " 6   DRABF     99847 non-null   float64\n",
      " 7   DRDINT    100116 non-null  float64\n",
      " 8   DR1DBIH   94128 non-null   float64\n",
      " 9   DR1DAY    100116 non-null  float64\n",
      " 10  DR1LANG   100025 non-null  float64\n",
      " 11  DR1CCMNM  100116 non-null  float64\n",
      " 12  DR1CCMTX  100116 non-null  float64\n",
      " 13  DR1_020   100116 non-null  float64\n",
      " 14  DR1_030Z  100116 non-null  float64\n",
      " 15  DR1FS     92784 non-null   float64\n",
      " 16  DR1_040Z  99787 non-null   float64\n",
      " 17  DR1IFDCD  100116 non-null  float64\n",
      " 18  DR1IGRMS  99787 non-null   float64\n",
      " 19  DR1IKCAL  99787 non-null   float64\n",
      " 20  DR1IPROT  99787 non-null   float64\n",
      " 21  DR1ICARB  99787 non-null   float64\n",
      " 22  DR1ISUGR  99787 non-null   float64\n",
      " 23  DR1IFIBE  99787 non-null   float64\n",
      " 24  DR1ITFAT  99787 non-null   float64\n",
      " 25  DR1ISFAT  99787 non-null   float64\n",
      " 26  DR1IMFAT  99787 non-null   float64\n",
      " 27  DR1IPFAT  99787 non-null   float64\n",
      " 28  DR1ICHOL  99787 non-null   float64\n",
      " 29  DR1IATOC  99787 non-null   float64\n",
      " 30  DR1IATOA  99787 non-null   float64\n",
      " 31  DR1IRET   99787 non-null   float64\n",
      " 32  DR1IVARA  99787 non-null   float64\n",
      " 33  DR1IACAR  99787 non-null   float64\n",
      " 34  DR1IBCAR  99787 non-null   float64\n",
      " 35  DR1ICRYP  99787 non-null   float64\n",
      " 36  DR1ILYCO  99787 non-null   float64\n",
      " 37  DR1ILZ    99787 non-null   float64\n",
      " 38  DR1IVB1   99787 non-null   float64\n",
      " 39  DR1IVB2   99787 non-null   float64\n",
      " 40  DR1INIAC  99787 non-null   float64\n",
      " 41  DR1IVB6   99787 non-null   float64\n",
      " 42  DR1IFOLA  99787 non-null   float64\n",
      " 43  DR1IFA    99787 non-null   float64\n",
      " 44  DR1IFF    99787 non-null   float64\n",
      " 45  DR1IFDFE  99787 non-null   float64\n",
      " 46  DR1ICHL   99787 non-null   float64\n",
      " 47  DR1IVB12  99787 non-null   float64\n",
      " 48  DR1IB12A  99787 non-null   float64\n",
      " 49  DR1IVC    99787 non-null   float64\n",
      " 50  DR1IVD    99787 non-null   float64\n",
      " 51  DR1IVK    99787 non-null   float64\n",
      " 52  DR1ICALC  99787 non-null   float64\n",
      " 53  DR1IPHOS  99787 non-null   float64\n",
      " 54  DR1IMAGN  99787 non-null   float64\n",
      " 55  DR1IIRON  99787 non-null   float64\n",
      " 56  DR1IZINC  99787 non-null   float64\n",
      " 57  DR1ICOPP  99787 non-null   float64\n",
      " 58  DR1ISODI  99787 non-null   float64\n",
      " 59  DR1IPOTA  99787 non-null   float64\n",
      " 60  DR1ISELE  99787 non-null   float64\n",
      " 61  DR1ICAFF  99787 non-null   float64\n",
      " 62  DR1ITHEO  99787 non-null   float64\n",
      " 63  DR1IALCO  99787 non-null   float64\n",
      " 64  DR1IMOIS  99787 non-null   float64\n",
      " 65  DR1IS040  99787 non-null   float64\n",
      " 66  DR1IS060  99787 non-null   float64\n",
      " 67  DR1IS080  99787 non-null   float64\n",
      " 68  DR1IS100  99787 non-null   float64\n",
      " 69  DR1IS120  99787 non-null   float64\n",
      " 70  DR1IS140  99787 non-null   float64\n",
      " 71  DR1IS160  99787 non-null   float64\n",
      " 72  DR1IS180  99787 non-null   float64\n",
      " 73  DR1IM161  99787 non-null   float64\n",
      " 74  DR1IM181  99787 non-null   float64\n",
      " 75  DR1IM201  99787 non-null   float64\n",
      " 76  DR1IM221  99787 non-null   float64\n",
      " 77  DR1IP182  99787 non-null   float64\n",
      " 78  DR1IP183  99787 non-null   float64\n",
      " 79  DR1IP184  99787 non-null   float64\n",
      " 80  DR1IP204  99787 non-null   float64\n",
      " 81  DR1IP205  99787 non-null   float64\n",
      " 82  DR1IP225  99787 non-null   float64\n",
      " 83  DR1IP226  99787 non-null   float64\n",
      " 84  is_pbp    100116 non-null  int64  \n",
      "dtypes: float64(84), int64(1)\n",
      "memory usage: 64.9 MB\n"
     ]
    }
   ],
   "source": [
    "df_pbp = df\n",
    "df_pbp['is_pbp'] = df_pbp['DR1IFDCD'].isin(pbp_codes).astype(int)\n",
    "df_pbp.info()"
   ]
  },
  {
   "cell_type": "code",
   "execution_count": 19,
   "metadata": {},
   "outputs": [],
   "source": [
    "# Make another new column that just multiplies grams by is_bpl\n",
    "# so it is 0 if not bpl, or the number of grams if it is\n",
    "df_pbp['grams_pbp'] = np.where(df_pbp['is_pbp'] == True, df_pbp['DR1IGRMS'], 0)"
   ]
  },
  {
   "cell_type": "code",
   "execution_count": 20,
   "metadata": {},
   "outputs": [
    {
     "name": "stdout",
     "output_type": "stream",
     "text": [
      "<class 'pandas.core.frame.DataFrame'>\n",
      "RangeIndex: 100116 entries, 0 to 100115\n",
      "Data columns (total 6 columns):\n",
      " #   Column     Non-Null Count   Dtype  \n",
      "---  ------     --------------   -----  \n",
      " 0   SEQN       100116 non-null  float64\n",
      " 1   WTDRD1     100116 non-null  float64\n",
      " 2   DR1IFDCD   100116 non-null  float64\n",
      " 3   DR1IGRMS   99787 non-null   float64\n",
      " 4   is_pbp     100116 non-null  int64  \n",
      " 5   grams_pbp  100116 non-null  float64\n",
      "dtypes: float64(5), int64(1)\n",
      "memory usage: 4.6 MB\n"
     ]
    }
   ],
   "source": [
    "# Let's just take SEQN, one day weights, food codes, grams, is_bpl, and grams bpl for now\n",
    "# Then we will join this with demographics to look at BPL consumption\n",
    "df_pbp = df_pbp[['SEQN', 'WTDRD1', 'DR1IFDCD', 'DR1IGRMS', 'is_pbp', 'grams_pbp']]\n",
    "df_pbp.info()"
   ]
  },
  {
   "cell_type": "markdown",
   "metadata": {},
   "source": [
    "## Add Demographics"
   ]
  },
  {
   "cell_type": "markdown",
   "metadata": {},
   "source": [
    "Load demographic data as xpt:"
   ]
  },
  {
   "cell_type": "code",
   "execution_count": 21,
   "metadata": {},
   "outputs": [
    {
     "name": "stdout",
     "output_type": "stream",
     "text": [
      "<class 'pandas.core.frame.DataFrame'>\n",
      "RangeIndex: 11933 entries, 0 to 11932\n",
      "Data columns (total 27 columns):\n",
      " #   Column    Non-Null Count  Dtype  \n",
      "---  ------    --------------  -----  \n",
      " 0   SEQN      11933 non-null  float64\n",
      " 1   SDDSRVYR  11933 non-null  float64\n",
      " 2   RIDSTATR  11933 non-null  float64\n",
      " 3   RIAGENDR  11933 non-null  float64\n",
      " 4   RIDAGEYR  11933 non-null  float64\n",
      " 5   RIDAGEMN  377 non-null    float64\n",
      " 6   RIDRETH1  11933 non-null  float64\n",
      " 7   RIDRETH3  11933 non-null  float64\n",
      " 8   RIDEXMON  8860 non-null   float64\n",
      " 9   RIDEXAGM  2787 non-null   float64\n",
      " 10  DMQMILIZ  8301 non-null   float64\n",
      " 11  DMDBORN4  11914 non-null  float64\n",
      " 12  DMDYRUSR  1875 non-null   float64\n",
      " 13  DMDEDUC2  7794 non-null   float64\n",
      " 14  DMDMARTZ  7792 non-null   float64\n",
      " 15  RIDEXPRG  1503 non-null   float64\n",
      " 16  DMDHHSIZ  11933 non-null  float64\n",
      " 17  DMDHRGND  4115 non-null   float64\n",
      " 18  DMDHRAGZ  4124 non-null   float64\n",
      " 19  DMDHREDZ  3746 non-null   float64\n",
      " 20  DMDHRMAZ  4020 non-null   float64\n",
      " 21  DMDHSEDZ  2127 non-null   float64\n",
      " 22  WTINT2YR  11933 non-null  float64\n",
      " 23  WTMEC2YR  11933 non-null  float64\n",
      " 24  SDMVSTRA  11933 non-null  float64\n",
      " 25  SDMVPSU   11933 non-null  float64\n",
      " 26  INDFMPIR  9892 non-null   float64\n",
      "dtypes: float64(27)\n",
      "memory usage: 2.5 MB\n"
     ]
    }
   ],
   "source": [
    "demos = pd.read_sas('data/raw/nhanes_2021_2023/DEMO_L.xpt')\n",
    "demos.info()"
   ]
  },
  {
   "cell_type": "markdown",
   "metadata": {},
   "source": [
    "Take the columns SEQN, age, gender, race, education, and ratio of family income to poverty:"
   ]
  },
  {
   "cell_type": "code",
   "execution_count": 22,
   "metadata": {},
   "outputs": [
    {
     "name": "stdout",
     "output_type": "stream",
     "text": [
      "<class 'pandas.core.frame.DataFrame'>\n",
      "RangeIndex: 11933 entries, 0 to 11932\n",
      "Data columns (total 6 columns):\n",
      " #   Column    Non-Null Count  Dtype  \n",
      "---  ------    --------------  -----  \n",
      " 0   SEQN      11933 non-null  float64\n",
      " 1   RIAGENDR  11933 non-null  float64\n",
      " 2   RIDAGEYR  11933 non-null  float64\n",
      " 3   RIDRETH3  11933 non-null  float64\n",
      " 4   DMDEDUC2  7794 non-null   float64\n",
      " 5   INDFMPIR  9892 non-null   float64\n",
      "dtypes: float64(6)\n",
      "memory usage: 559.5 KB\n"
     ]
    }
   ],
   "source": [
    "demos = demos[['SEQN', 'RIAGENDR', 'RIDAGEYR', 'RIDRETH3', 'DMDEDUC2', 'INDFMPIR']]\n",
    "demos.info()"
   ]
  },
  {
   "cell_type": "markdown",
   "metadata": {},
   "source": [
    "Merge demographics with our pbp data frame:"
   ]
  },
  {
   "cell_type": "code",
   "execution_count": 23,
   "metadata": {},
   "outputs": [
    {
     "name": "stdout",
     "output_type": "stream",
     "text": [
      "<class 'pandas.core.frame.DataFrame'>\n",
      "RangeIndex: 100116 entries, 0 to 100115\n",
      "Data columns (total 11 columns):\n",
      " #   Column     Non-Null Count   Dtype  \n",
      "---  ------     --------------   -----  \n",
      " 0   SEQN       100116 non-null  float64\n",
      " 1   WTDRD1     100116 non-null  float64\n",
      " 2   DR1IFDCD   100116 non-null  float64\n",
      " 3   DR1IGRMS   99787 non-null   float64\n",
      " 4   is_pbp     100116 non-null  int64  \n",
      " 5   grams_pbp  100116 non-null  float64\n",
      " 6   RIAGENDR   100116 non-null  float64\n",
      " 7   RIDAGEYR   100116 non-null  float64\n",
      " 8   RIDRETH3   100116 non-null  float64\n",
      " 9   DMDEDUC2   73938 non-null   float64\n",
      " 10  INDFMPIR   88872 non-null   float64\n",
      "dtypes: float64(10), int64(1)\n",
      "memory usage: 8.4 MB\n"
     ]
    }
   ],
   "source": [
    "# Now join our demos with our DR1 data\n",
    "joined = df_pbp.merge(demos, on='SEQN', how='left')\n",
    "joined.info()"
   ]
  },
  {
   "cell_type": "code",
   "execution_count": 24,
   "metadata": {},
   "outputs": [
    {
     "data": {
      "text/plain": [
       "Index(['SEQN', 'WTDRD1', 'DR1IFDCD', 'DR1IGRMS', 'is_pbp', 'grams_pbp',\n",
       "       'RIAGENDR', 'RIDAGEYR', 'RIDRETH3', 'DMDEDUC2', 'INDFMPIR'],\n",
       "      dtype='object')"
      ]
     },
     "execution_count": 24,
     "metadata": {},
     "output_type": "execute_result"
    }
   ],
   "source": [
    "joined.columns"
   ]
  },
  {
   "cell_type": "markdown",
   "metadata": {},
   "source": [
    "Group the dietary recall data by SEQN to get totals of consumption for each person. Also creating a variable for the percentage of consumption (grams) of PBPs out of total consumption (grams) for the day:"
   ]
  },
  {
   "cell_type": "code",
   "execution_count": 25,
   "metadata": {},
   "outputs": [
    {
     "name": "stdout",
     "output_type": "stream",
     "text": [
      "            dr1_weight  total_grams  pbp_grams   age  gender  education  race  \\\n",
      "SEQN                                                                            \n",
      "130378.0  61366.555827      3662.08        0.0  43.0     1.0        5.0   6.0   \n",
      "130379.0  34638.056480      4697.95        0.0  66.0     1.0        5.0   3.0   \n",
      "130380.0  84728.261560      4537.50        0.0  44.0     2.0        3.0   2.0   \n",
      "130381.0  61737.133446      1995.40       11.5   5.0     2.0        NaN   7.0   \n",
      "130382.0  75846.746917      1533.98      112.0   2.0     1.0        NaN   3.0   \n",
      "\n",
      "          income_ratio  pbp_perc  \n",
      "SEQN                              \n",
      "130378.0          5.00  0.000000  \n",
      "130379.0          5.00  0.000000  \n",
      "130380.0          1.41  0.000000  \n",
      "130381.0          1.53  0.576326  \n",
      "130382.0          3.60  7.301269  \n"
     ]
    }
   ],
   "source": [
    "# Group by SEQN to get summary stats for consumption of each person\n",
    "# For grams, we are adding up the sums of total and bpl grams\n",
    "# For everything else, just take first value because it should be same among everyone\n",
    "# Would have been easier to just make smaller DF and then join it.\n",
    "# But this already happened\n",
    "dat = joined.groupby('SEQN').agg(\n",
    "  dr1_weight=('WTDRD1', 'first'),\n",
    "  total_grams=('DR1IGRMS', 'sum'),\n",
    "  pbp_grams=('grams_pbp', 'sum'),\n",
    "  age=('RIDAGEYR', 'first'),\n",
    "  gender=('RIAGENDR', 'first'),\n",
    "  education=('DMDEDUC2', 'first'),\n",
    "  race=('RIDRETH3', 'first'),\n",
    "  income_ratio=('INDFMPIR', 'first')\n",
    ")\n",
    "\n",
    "# One more thing - percentage of bpl grams to total grams for each person\n",
    "dat['pbp_perc'] = dat['pbp_grams'] / dat['total_grams'] * 100\n",
    "print(dat.head())"
   ]
  },
  {
   "cell_type": "markdown",
   "metadata": {},
   "source": [
    "Recode demographic variables. Coding schemes are available at the NHANES website in the documentation beside each dataset. We are splitting the income to poverty ratio into quartiles."
   ]
  },
  {
   "cell_type": "code",
   "execution_count": 26,
   "metadata": {},
   "outputs": [
    {
     "data": {
      "text/html": [
       "<div>\n",
       "<style scoped>\n",
       "    .dataframe tbody tr th:only-of-type {\n",
       "        vertical-align: middle;\n",
       "    }\n",
       "\n",
       "    .dataframe tbody tr th {\n",
       "        vertical-align: top;\n",
       "    }\n",
       "\n",
       "    .dataframe thead th {\n",
       "        text-align: right;\n",
       "    }\n",
       "</style>\n",
       "<table border=\"1\" class=\"dataframe\">\n",
       "  <thead>\n",
       "    <tr style=\"text-align: right;\">\n",
       "      <th></th>\n",
       "      <th>dr1_weight</th>\n",
       "      <th>total_grams</th>\n",
       "      <th>pbp_grams</th>\n",
       "      <th>age</th>\n",
       "      <th>gender</th>\n",
       "      <th>education</th>\n",
       "      <th>race</th>\n",
       "      <th>income_ratio</th>\n",
       "      <th>pbp_perc</th>\n",
       "      <th>income_ratio_qs</th>\n",
       "    </tr>\n",
       "    <tr>\n",
       "      <th>SEQN</th>\n",
       "      <th></th>\n",
       "      <th></th>\n",
       "      <th></th>\n",
       "      <th></th>\n",
       "      <th></th>\n",
       "      <th></th>\n",
       "      <th></th>\n",
       "      <th></th>\n",
       "      <th></th>\n",
       "      <th></th>\n",
       "    </tr>\n",
       "  </thead>\n",
       "  <tbody>\n",
       "    <tr>\n",
       "      <th>130378.0</th>\n",
       "      <td>61366.555827</td>\n",
       "      <td>3662.08</td>\n",
       "      <td>0.0</td>\n",
       "      <td>43.0</td>\n",
       "      <td>Male</td>\n",
       "      <td>College graduate or above</td>\n",
       "      <td>Other or Multi</td>\n",
       "      <td>5.00</td>\n",
       "      <td>0.000000</td>\n",
       "      <td>(4.87, 5.0]</td>\n",
       "    </tr>\n",
       "    <tr>\n",
       "      <th>130379.0</th>\n",
       "      <td>34638.056480</td>\n",
       "      <td>4697.95</td>\n",
       "      <td>0.0</td>\n",
       "      <td>66.0</td>\n",
       "      <td>Male</td>\n",
       "      <td>College graduate or above</td>\n",
       "      <td>White</td>\n",
       "      <td>5.00</td>\n",
       "      <td>0.000000</td>\n",
       "      <td>(4.87, 5.0]</td>\n",
       "    </tr>\n",
       "    <tr>\n",
       "      <th>130380.0</th>\n",
       "      <td>84728.261560</td>\n",
       "      <td>4537.50</td>\n",
       "      <td>0.0</td>\n",
       "      <td>44.0</td>\n",
       "      <td>Female</td>\n",
       "      <td>High school/GED</td>\n",
       "      <td>Other Hispanic</td>\n",
       "      <td>1.41</td>\n",
       "      <td>0.000000</td>\n",
       "      <td>(1.3, 2.73]</td>\n",
       "    </tr>\n",
       "    <tr>\n",
       "      <th>130381.0</th>\n",
       "      <td>61737.133446</td>\n",
       "      <td>1995.40</td>\n",
       "      <td>11.5</td>\n",
       "      <td>5.0</td>\n",
       "      <td>Female</td>\n",
       "      <td>Don't know</td>\n",
       "      <td>Other or Multi</td>\n",
       "      <td>1.53</td>\n",
       "      <td>0.576326</td>\n",
       "      <td>(1.3, 2.73]</td>\n",
       "    </tr>\n",
       "    <tr>\n",
       "      <th>130382.0</th>\n",
       "      <td>75846.746917</td>\n",
       "      <td>1533.98</td>\n",
       "      <td>112.0</td>\n",
       "      <td>2.0</td>\n",
       "      <td>Male</td>\n",
       "      <td>Don't know</td>\n",
       "      <td>White</td>\n",
       "      <td>3.60</td>\n",
       "      <td>7.301269</td>\n",
       "      <td>(2.73, 4.87]</td>\n",
       "    </tr>\n",
       "  </tbody>\n",
       "</table>\n",
       "</div>"
      ],
      "text/plain": [
       "            dr1_weight  total_grams  pbp_grams   age  gender  \\\n",
       "SEQN                                                           \n",
       "130378.0  61366.555827      3662.08        0.0  43.0    Male   \n",
       "130379.0  34638.056480      4697.95        0.0  66.0    Male   \n",
       "130380.0  84728.261560      4537.50        0.0  44.0  Female   \n",
       "130381.0  61737.133446      1995.40       11.5   5.0  Female   \n",
       "130382.0  75846.746917      1533.98      112.0   2.0    Male   \n",
       "\n",
       "                          education            race  income_ratio  pbp_perc  \\\n",
       "SEQN                                                                          \n",
       "130378.0  College graduate or above  Other or Multi          5.00  0.000000   \n",
       "130379.0  College graduate or above           White          5.00  0.000000   \n",
       "130380.0            High school/GED  Other Hispanic          1.41  0.000000   \n",
       "130381.0                 Don't know  Other or Multi          1.53  0.576326   \n",
       "130382.0                 Don't know           White          3.60  7.301269   \n",
       "\n",
       "         income_ratio_qs  \n",
       "SEQN                      \n",
       "130378.0     (4.87, 5.0]  \n",
       "130379.0     (4.87, 5.0]  \n",
       "130380.0     (1.3, 2.73]  \n",
       "130381.0     (1.3, 2.73]  \n",
       "130382.0    (2.73, 4.87]  "
      ]
     },
     "execution_count": 26,
     "metadata": {},
     "output_type": "execute_result"
    }
   ],
   "source": [
    "# Gender\n",
    "dat['gender'] = dat['gender'].apply(lambda x: ('Female' if x == 2 else 'Male'))\n",
    "\n",
    "# Education\n",
    "dat['education'] = dat['education'].apply(\n",
    "  lambda x: (\n",
    "    'Less than 9th grade' if x == 1\n",
    "    else '9th to 11th grade' if x == 2\n",
    "    else 'High school/GED' if x == 3\n",
    "    else 'Some college or AA' if x == 4\n",
    "    else 'College graduate or above' if x == 5\n",
    "    else \"Don\\'t know\"\n",
    "  )\n",
    ")\n",
    "\n",
    "# Race\n",
    "dat['race'] = dat['race'].apply(\n",
    "  lambda x: (\n",
    "    'Mexican American' if x == 1\n",
    "    else 'Other Hispanic' if x == 2\n",
    "    else 'White' if x == 3\n",
    "    else 'Black' if x == 4\n",
    "    else 'Asian' if x == 5\n",
    "    else 'Other or Multi'\n",
    "  )\n",
    ")\n",
    "\n",
    "# Income to poverty ratio\n",
    "dat['income_ratio_qs'] = pd.qcut(\n",
    "  x = dat['income_ratio'], \n",
    "  q = 4, \n",
    "  duplicates='drop'\n",
    ")\n",
    "dat.head()"
   ]
  },
  {
   "cell_type": "markdown",
   "metadata": {},
   "source": [
    "This is our cleanish data for exploratory stuff. Note that we are only looking at day 1, which is not the ultimate plan. NHANES recommends using both days and combining at least 2 waves of data for a cross-sectional study."
   ]
  },
  {
   "cell_type": "code",
   "execution_count": 27,
   "metadata": {},
   "outputs": [
    {
     "name": "stdout",
     "output_type": "stream",
     "text": [
      "<class 'pandas.core.frame.DataFrame'>\n",
      "Index: 6751 entries, 130378.0 to 142310.0\n",
      "Data columns (total 10 columns):\n",
      " #   Column           Non-Null Count  Dtype   \n",
      "---  ------           --------------  -----   \n",
      " 0   dr1_weight       6751 non-null   float64 \n",
      " 1   total_grams      6751 non-null   float64 \n",
      " 2   pbp_grams        6751 non-null   float64 \n",
      " 3   age              6751 non-null   float64 \n",
      " 4   gender           6751 non-null   object  \n",
      " 5   education        6751 non-null   object  \n",
      " 6   race             6751 non-null   object  \n",
      " 7   income_ratio     5965 non-null   float64 \n",
      " 8   pbp_perc         6744 non-null   float64 \n",
      " 9   income_ratio_qs  5965 non-null   category\n",
      "dtypes: category(1), float64(6), object(3)\n",
      "memory usage: 534.2+ KB\n"
     ]
    }
   ],
   "source": [
    "dat.info()"
   ]
  },
  {
   "cell_type": "markdown",
   "metadata": {},
   "source": [
    "## Graphs"
   ]
  },
  {
   "cell_type": "code",
   "execution_count": 28,
   "metadata": {},
   "outputs": [],
   "source": [
    "import seaborn as sns\n",
    "import matplotlib.pyplot as plt"
   ]
  },
  {
   "cell_type": "markdown",
   "metadata": {},
   "source": [
    "PBP consumption by gender:"
   ]
  },
  {
   "cell_type": "code",
   "execution_count": 29,
   "metadata": {},
   "outputs": [
    {
     "data": {
      "image/png": "[encoded data removed]",
      "text/plain": [
       "<Figure size 640x480 with 1 Axes>"
      ]
     },
     "metadata": {},
     "output_type": "display_data"
    }
   ],
   "source": [
    "# pbp consumption by gender\n",
    "ax = sns.barplot(\n",
    "  data=dat,\n",
    "  y='pbp_perc',\n",
    "  x='education',\n",
    "  hue='gender',\n",
    "  order=[\n",
    "    \"Don't know\",\n",
    "    'Less than 9th grade', \n",
    "    'High school/GED', \n",
    "    'Some college or AA', \n",
    "    'College graduate or above'\n",
    "  ],\n",
    "  weights='dr1_weight',\n",
    "  errorbar=('ci', 95)\n",
    ")\n",
    "ax.set(\n",
    "  xlabel = 'Percentage of grams from PBP',\n",
    "  ylabel = 'Education'\n",
    ")\n",
    "plt.xticks(rotation=45) \n",
    "plt.show()\n",
    "# Would like to adjust names horizontally to line up better after rotation, hjust arg?"
   ]
  },
  {
   "cell_type": "code",
   "execution_count": 30,
   "metadata": {},
   "outputs": [
    {
     "data": {
      "text/plain": [
       "([0, 1, 2, 3, 4],\n",
       " [Text(0, 0, 'Other or Multi'),\n",
       "  Text(1, 0, 'White'),\n",
       "  Text(2, 0, 'Other Hispanic'),\n",
       "  Text(3, 0, 'Mexican American'),\n",
       "  Text(4, 0, 'Black')])"
      ]
     },
     "execution_count": 30,
     "metadata": {},
     "output_type": "execute_result"
    },
    {
     "data": {
      "image/png": "[encoded data removed]",
      "text/plain": [
       "<Figure size 640x480 with 1 Axes>"
      ]
     },
     "metadata": {},
     "output_type": "display_data"
    }
   ],
   "source": [
    "# blp consumption by race\n",
    "ax = sns.barplot(\n",
    "  data=dat,\n",
    "  y='pbp_perc',\n",
    "  x='race',\n",
    "  hue='gender',\n",
    "  weights='dr1_weight',\n",
    "  errorbar=('ci', 95)\n",
    ")\n",
    "ax.set(\n",
    "  xlabel = 'Race',\n",
    "  ylabel = 'Percentage of grams from PBP'\n",
    ")\n",
    "plt.xticks(rotation=45) "
   ]
  },
  {
   "cell_type": "code",
   "execution_count": 31,
   "metadata": {},
   "outputs": [
    {
     "data": {
      "text/plain": [
       "[Text(0.5, 0, 'Quartiles of Income to Poverty Ratio'),\n",
       " Text(0, 0.5, 'Percentage of grams from PBP')]"
      ]
     },
     "execution_count": 31,
     "metadata": {},
     "output_type": "execute_result"
    },
    {
     "data": {
      "image/png": "[encoded data removed]",
      "text/plain": [
       "<Figure size 640x480 with 1 Axes>"
      ]
     },
     "metadata": {},
     "output_type": "display_data"
    }
   ],
   "source": [
    "# blp consumption by poverty ratio\n",
    "\n",
    "ax = sns.barplot(\n",
    "  data=dat,\n",
    "  y='pbp_perc',\n",
    "  x='income_ratio_qs',\n",
    "  hue='gender',\n",
    "  weights='dr1_weight',\n",
    "  errorbar=('ci', 95)\n",
    ")\n",
    "ax.set(\n",
    "  xlabel = 'Quartiles of Income to Poverty Ratio',\n",
    "  ylabel = 'Percentage of grams from PBP'\n",
    ")"
   ]
  }
 ],
 "metadata": {
  "colab": {
   "authorship_tag": "ABX9TyP3Vg9XCLx8Mch/6cKpSKmy",
   "mount_file_id": "1-wAFf7hIBTaCRetAy-MVNY2A6yrcTVmP",
   "provenance": []
  },
  "kernelspec": {
   "display_name": "Python 3",
   "language": "python",
   "name": "python3"
  },
  "language_info": {
   "codemirror_mode": {
    "name": "ipython",
    "version": 3
   },
   "file_extension": ".py",
   "mimetype": "text/x-python",
   "name": "python",
   "nbconvert_exporter": "python",
   "pygments_lexer": "ipython3",
   "version": "3.13.0"
  }
 },
 "nbformat": 4,
 "nbformat_minor": 0
}

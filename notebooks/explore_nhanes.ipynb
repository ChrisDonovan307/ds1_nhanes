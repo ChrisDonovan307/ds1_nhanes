{
 "cells": [
  {
   "cell_type": "markdown",
   "metadata": {
    "id": "pp8EptmjQn0_"
   },
   "source": [
    "# Explore NHANES\n",
    "\n",
    "This is a first swing at exploring NHANES datasets. Currently just working with the 2021-2023 survey and lumping both days into a single dataset.\n",
    "\n",
    "An issue that needs to be fixed here is that the grams of PBPs consumed below are based on the total foods/recipes, but are not broken down into what proportion are actually PBPs. Need to add the recipe doc that translates recipes into constituent ingredients and proportions to get proper PBP consumption."
   ]
  },
  {
   "cell_type": "markdown",
   "metadata": {
    "id": "bmdmBS2SlvUz"
   },
   "source": [
    "## Set Working Directory\n",
    "\n",
    "When you open a notebook, the default working directory will be the folder that notebook is in. We want it to be the top (root) directory of the project, 'ds1_nhanes'.\n",
    "\n",
    "First, we need to mount our Google Drive, which contains the `ds1_nhanes` folder:"
   ]
  },
  {
   "cell_type": "code",
   "execution_count": null,
   "metadata": {
    "colab": {
     "base_uri": "https://localhost:8080/"
    },
    "executionInfo": {
     "elapsed": 21893,
     "status": "ok",
     "timestamp": 1742217641647,
     "user": {
      "displayName": "Christopher Donovan",
      "userId": "08763921350367890499"
     },
     "user_tz": 240
    },
    "id": "KKqcFa78Qn1C",
    "outputId": "abc01dce-0180-48fa-ed8e-d7375e6a6cf5"
   },
   "outputs": [],
   "source": [
    "from google.colab import drive\n",
    "drive.mount('/content/drive')"
   ]
  },
  {
   "cell_type": "markdown",
   "metadata": {
    "id": "XTNXfPWlQn1D"
   },
   "source": [
    "Now check out current working directory:"
   ]
  },
  {
   "cell_type": "code",
   "execution_count": null,
   "metadata": {
    "colab": {
     "base_uri": "https://localhost:8080/",
     "height": 36
    },
    "executionInfo": {
     "elapsed": 21,
     "status": "ok",
     "timestamp": 1742217641768,
     "user": {
      "displayName": "Christopher Donovan",
      "userId": "08763921350367890499"
     },
     "user_tz": 240
    },
    "id": "4xCGH1yAQn1D",
    "outputId": "e81f7ee9-88df-43a5-a69a-87c8c59dd3a2"
   },
   "outputs": [],
   "source": [
    "import os\n",
    "os.getcwd()"
   ]
  },
  {
   "cell_type": "markdown",
   "metadata": {
    "id": "H8BfkyKBQn1D"
   },
   "source": [
    "The working directory of the notebook defaults to the directory the notebook is in, so this is probably ds1_nhanes/notebooks.\n",
    "\n",
    "We want to change it to ds1_nhanes:"
   ]
  },
  {
   "cell_type": "code",
   "execution_count": null,
   "metadata": {
    "colab": {
     "base_uri": "https://localhost:8080/",
     "height": 36
    },
    "executionInfo": {
     "elapsed": 93,
     "status": "ok",
     "timestamp": 1742217641931,
     "user": {
      "displayName": "Christopher Donovan",
      "userId": "08763921350367890499"
     },
     "user_tz": 240
    },
    "id": "PUmt0V80Qn1E",
    "outputId": "ccc06c46-5e4d-48e6-97e2-960c5b4d45ae"
   },
   "outputs": [],
   "source": [
    "os.chdir('/content/drive/MyDrive/ds1_nhanes/')\n",
    "os.getcwd()"
   ]
  },
  {
   "cell_type": "markdown",
   "metadata": {
    "id": "571LTcODQn1E"
   },
   "source": [
    "Bingo bongo, we're good to go.\n",
    "\n",
    "The below chunk should only be run if running the code locally, not with Colab"
   ]
  },
  {
   "cell_type": "code",
   "execution_count": null,
   "metadata": {
    "id": "Yb3FmzI0Qn1E"
   },
   "outputs": [],
   "source": [
    "# Don't run\n",
    "\n",
    "# import os\n",
    "# from pathlib import Path\n",
    "# os.chdir(Path(os.getcwd()).parent)\n",
    "# print(os.getcwd())"
   ]
  },
  {
   "cell_type": "markdown",
   "metadata": {
    "id": "8-Zj2PKG7NDN"
   },
   "source": [
    "## Load Data and Libraries"
   ]
  },
  {
   "cell_type": "code",
   "execution_count": 29,
   "metadata": {
    "id": "Zx5mz_OZ6_L2"
   },
   "outputs": [],
   "source": [
    "import pandas as pd\n",
    "import numpy as np"
   ]
  },
  {
   "cell_type": "markdown",
   "metadata": {
    "id": "QAjxN-yXQn1F"
   },
   "source": [
    "For now we are exploring the 2021-2023 wave dietary recall data for both days:"
   ]
  },
  {
   "cell_type": "code",
   "execution_count": 30,
   "metadata": {
    "colab": {
     "base_uri": "https://localhost:8080/"
    },
    "executionInfo": {
     "elapsed": 8508,
     "status": "ok",
     "timestamp": 1742217652311,
     "user": {
      "displayName": "Christopher Donovan",
      "userId": "08763921350367890499"
     },
     "user_tz": 240
    },
    "id": "a2Fz02bE7PAu",
    "outputId": "4046f8d2-d69d-4fe2-a391-f57b22e25809"
   },
   "outputs": [
    {
     "name": "stdout",
     "output_type": "stream",
     "text": [
      "<class 'pandas.core.frame.DataFrame'>\n",
      "RangeIndex: 100116 entries, 0 to 100115\n",
      "Data columns (total 84 columns):\n",
      " #   Column    Non-Null Count   Dtype  \n",
      "---  ------    --------------   -----  \n",
      " 0   SEQN      100116 non-null  float64\n",
      " 1   WTDRD1    100116 non-null  float64\n",
      " 2   WTDR2D    100116 non-null  float64\n",
      " 3   DR1ILINE  100116 non-null  float64\n",
      " 4   DR1DRSTZ  100116 non-null  float64\n",
      " 5   DR1EXMER  100116 non-null  float64\n",
      " 6   DRABF     99847 non-null   float64\n",
      " 7   DRDINT    100116 non-null  float64\n",
      " 8   DR1DBIH   94128 non-null   float64\n",
      " 9   DR1DAY    100116 non-null  float64\n",
      " 10  DR1LANG   100025 non-null  float64\n",
      " 11  DR1CCMNM  100116 non-null  float64\n",
      " 12  DR1CCMTX  100116 non-null  float64\n",
      " 13  DR1_020   100116 non-null  float64\n",
      " 14  DR1_030Z  100116 non-null  float64\n",
      " 15  DR1FS     92784 non-null   float64\n",
      " 16  DR1_040Z  99787 non-null   float64\n",
      " 17  DR1IFDCD  100116 non-null  float64\n",
      " 18  DR1IGRMS  99787 non-null   float64\n",
      " 19  DR1IKCAL  99787 non-null   float64\n",
      " 20  DR1IPROT  99787 non-null   float64\n",
      " 21  DR1ICARB  99787 non-null   float64\n",
      " 22  DR1ISUGR  99787 non-null   float64\n",
      " 23  DR1IFIBE  99787 non-null   float64\n",
      " 24  DR1ITFAT  99787 non-null   float64\n",
      " 25  DR1ISFAT  99787 non-null   float64\n",
      " 26  DR1IMFAT  99787 non-null   float64\n",
      " 27  DR1IPFAT  99787 non-null   float64\n",
      " 28  DR1ICHOL  99787 non-null   float64\n",
      " 29  DR1IATOC  99787 non-null   float64\n",
      " 30  DR1IATOA  99787 non-null   float64\n",
      " 31  DR1IRET   99787 non-null   float64\n",
      " 32  DR1IVARA  99787 non-null   float64\n",
      " 33  DR1IACAR  99787 non-null   float64\n",
      " 34  DR1IBCAR  99787 non-null   float64\n",
      " 35  DR1ICRYP  99787 non-null   float64\n",
      " 36  DR1ILYCO  99787 non-null   float64\n",
      " 37  DR1ILZ    99787 non-null   float64\n",
      " 38  DR1IVB1   99787 non-null   float64\n",
      " 39  DR1IVB2   99787 non-null   float64\n",
      " 40  DR1INIAC  99787 non-null   float64\n",
      " 41  DR1IVB6   99787 non-null   float64\n",
      " 42  DR1IFOLA  99787 non-null   float64\n",
      " 43  DR1IFA    99787 non-null   float64\n",
      " 44  DR1IFF    99787 non-null   float64\n",
      " 45  DR1IFDFE  99787 non-null   float64\n",
      " 46  DR1ICHL   99787 non-null   float64\n",
      " 47  DR1IVB12  99787 non-null   float64\n",
      " 48  DR1IB12A  99787 non-null   float64\n",
      " 49  DR1IVC    99787 non-null   float64\n",
      " 50  DR1IVD    99787 non-null   float64\n",
      " 51  DR1IVK    99787 non-null   float64\n",
      " 52  DR1ICALC  99787 non-null   float64\n",
      " 53  DR1IPHOS  99787 non-null   float64\n",
      " 54  DR1IMAGN  99787 non-null   float64\n",
      " 55  DR1IIRON  99787 non-null   float64\n",
      " 56  DR1IZINC  99787 non-null   float64\n",
      " 57  DR1ICOPP  99787 non-null   float64\n",
      " 58  DR1ISODI  99787 non-null   float64\n",
      " 59  DR1IPOTA  99787 non-null   float64\n",
      " 60  DR1ISELE  99787 non-null   float64\n",
      " 61  DR1ICAFF  99787 non-null   float64\n",
      " 62  DR1ITHEO  99787 non-null   float64\n",
      " 63  DR1IALCO  99787 non-null   float64\n",
      " 64  DR1IMOIS  99787 non-null   float64\n",
      " 65  DR1IS040  99787 non-null   float64\n",
      " 66  DR1IS060  99787 non-null   float64\n",
      " 67  DR1IS080  99787 non-null   float64\n",
      " 68  DR1IS100  99787 non-null   float64\n",
      " 69  DR1IS120  99787 non-null   float64\n",
      " 70  DR1IS140  99787 non-null   float64\n",
      " 71  DR1IS160  99787 non-null   float64\n",
      " 72  DR1IS180  99787 non-null   float64\n",
      " 73  DR1IM161  99787 non-null   float64\n",
      " 74  DR1IM181  99787 non-null   float64\n",
      " 75  DR1IM201  99787 non-null   float64\n",
      " 76  DR1IM221  99787 non-null   float64\n",
      " 77  DR1IP182  99787 non-null   float64\n",
      " 78  DR1IP183  99787 non-null   float64\n",
      " 79  DR1IP184  99787 non-null   float64\n",
      " 80  DR1IP204  99787 non-null   float64\n",
      " 81  DR1IP205  99787 non-null   float64\n",
      " 82  DR1IP225  99787 non-null   float64\n",
      " 83  DR1IP226  99787 non-null   float64\n",
      "dtypes: float64(84)\n",
      "memory usage: 64.2 MB\n",
      "None\n",
      "<class 'pandas.core.frame.DataFrame'>\n",
      "RangeIndex: 88032 entries, 0 to 88031\n",
      "Data columns (total 84 columns):\n",
      " #   Column    Non-Null Count  Dtype  \n",
      "---  ------    --------------  -----  \n",
      " 0   SEQN      88032 non-null  float64\n",
      " 1   WTDRD1    88032 non-null  float64\n",
      " 2   WTDR2D    88032 non-null  float64\n",
      " 3   DR2ILINE  88032 non-null  float64\n",
      " 4   DR2DRSTZ  88032 non-null  float64\n",
      " 5   DR2EXMER  88032 non-null  float64\n",
      " 6   DRABF     88032 non-null  float64\n",
      " 7   DRDINT    88032 non-null  float64\n",
      " 8   DR2DBIH   83166 non-null  float64\n",
      " 9   DR2DAY    88032 non-null  float64\n",
      " 10  DR2LANG   88032 non-null  float64\n",
      " 11  DR2CCMNM  88032 non-null  float64\n",
      " 12  DR2CCMTX  88032 non-null  float64\n",
      " 13  DR2_020   88032 non-null  float64\n",
      " 14  DR2_030Z  88032 non-null  float64\n",
      " 15  DR2FS     81295 non-null  float64\n",
      " 16  DR2_040Z  87778 non-null  float64\n",
      " 17  DR2IFDCD  88032 non-null  float64\n",
      " 18  DR2IGRMS  87778 non-null  float64\n",
      " 19  DR2IKCAL  87778 non-null  float64\n",
      " 20  DR2IPROT  87778 non-null  float64\n",
      " 21  DR2ICARB  87778 non-null  float64\n",
      " 22  DR2ISUGR  87778 non-null  float64\n",
      " 23  DR2IFIBE  87778 non-null  float64\n",
      " 24  DR2ITFAT  87778 non-null  float64\n",
      " 25  DR2ISFAT  87778 non-null  float64\n",
      " 26  DR2IMFAT  87778 non-null  float64\n",
      " 27  DR2IPFAT  87778 non-null  float64\n",
      " 28  DR2ICHOL  87778 non-null  float64\n",
      " 29  DR2IATOC  87778 non-null  float64\n",
      " 30  DR2IATOA  87778 non-null  float64\n",
      " 31  DR2IRET   87778 non-null  float64\n",
      " 32  DR2IVARA  87778 non-null  float64\n",
      " 33  DR2IACAR  87778 non-null  float64\n",
      " 34  DR2IBCAR  87778 non-null  float64\n",
      " 35  DR2ICRYP  87778 non-null  float64\n",
      " 36  DR2ILYCO  87778 non-null  float64\n",
      " 37  DR2ILZ    87778 non-null  float64\n",
      " 38  DR2IVB1   87778 non-null  float64\n",
      " 39  DR2IVB2   87778 non-null  float64\n",
      " 40  DR2INIAC  87778 non-null  float64\n",
      " 41  DR2IVB6   87778 non-null  float64\n",
      " 42  DR2IFOLA  87778 non-null  float64\n",
      " 43  DR2IFA    87778 non-null  float64\n",
      " 44  DR2IFF    87778 non-null  float64\n",
      " 45  DR2IFDFE  87778 non-null  float64\n",
      " 46  DR2ICHL   87778 non-null  float64\n",
      " 47  DR2IVB12  87778 non-null  float64\n",
      " 48  DR2IB12A  87778 non-null  float64\n",
      " 49  DR2IVC    87778 non-null  float64\n",
      " 50  DR2IVD    87778 non-null  float64\n",
      " 51  DR2IVK    87778 non-null  float64\n",
      " 52  DR2ICALC  87778 non-null  float64\n",
      " 53  DR2IPHOS  87778 non-null  float64\n",
      " 54  DR2IMAGN  87778 non-null  float64\n",
      " 55  DR2IIRON  87778 non-null  float64\n",
      " 56  DR2IZINC  87778 non-null  float64\n",
      " 57  DR2ICOPP  87778 non-null  float64\n",
      " 58  DR2ISODI  87778 non-null  float64\n",
      " 59  DR2IPOTA  87778 non-null  float64\n",
      " 60  DR2ISELE  87778 non-null  float64\n",
      " 61  DR2ICAFF  87778 non-null  float64\n",
      " 62  DR2ITHEO  87778 non-null  float64\n",
      " 63  DR2IALCO  87778 non-null  float64\n",
      " 64  DR2IMOIS  87778 non-null  float64\n",
      " 65  DR2IS040  87778 non-null  float64\n",
      " 66  DR2IS060  87778 non-null  float64\n",
      " 67  DR2IS080  87778 non-null  float64\n",
      " 68  DR2IS100  87778 non-null  float64\n",
      " 69  DR2IS120  87778 non-null  float64\n",
      " 70  DR2IS140  87778 non-null  float64\n",
      " 71  DR2IS160  87778 non-null  float64\n",
      " 72  DR2IS180  87778 non-null  float64\n",
      " 73  DR2IM161  87778 non-null  float64\n",
      " 74  DR2IM181  87778 non-null  float64\n",
      " 75  DR2IM201  87778 non-null  float64\n",
      " 76  DR2IM221  87778 non-null  float64\n",
      " 77  DR2IP182  87778 non-null  float64\n",
      " 78  DR2IP183  87778 non-null  float64\n",
      " 79  DR2IP184  87778 non-null  float64\n",
      " 80  DR2IP204  87778 non-null  float64\n",
      " 81  DR2IP205  87778 non-null  float64\n",
      " 82  DR2IP225  87778 non-null  float64\n",
      " 83  DR2IP226  87778 non-null  float64\n",
      "dtypes: float64(84)\n",
      "memory usage: 56.4 MB\n",
      "None\n"
     ]
    }
   ],
   "source": [
    "dr1 = pd.read_sas('data/raw/nhanes_2021_2023/DR1IFF_L.xpt')\n",
    "dr2 = pd.read_sas('data/raw/nhanes_2021_2023/DR2IFF_L.xpt')\n",
    "print(dr1.info())\n",
    "print(dr2.info())"
   ]
  },
  {
   "cell_type": "markdown",
   "metadata": {
    "id": "JVX4IziU5BJR"
   },
   "source": [
    "## Explore Dietary Recall Data"
   ]
  },
  {
   "cell_type": "markdown",
   "metadata": {
    "id": "nZDggDAjQn1H"
   },
   "source": [
    "Compare the dimensions of the df with the number of unique SEQN numbers (respondent ids)"
   ]
  },
  {
   "cell_type": "code",
   "execution_count": 31,
   "metadata": {
    "colab": {
     "base_uri": "https://localhost:8080/"
    },
    "executionInfo": {
     "elapsed": 45,
     "status": "ok",
     "timestamp": 1742217653255,
     "user": {
      "displayName": "Christopher Donovan",
      "userId": "08763921350367890499"
     },
     "user_tz": 240
    },
    "id": "ApGkuYMD5G59",
    "outputId": "c12697a4-f9b0-4ce2-8ee6-26cb7571c57e"
   },
   "outputs": [
    {
     "name": "stdout",
     "output_type": "stream",
     "text": [
      "100116 columns and 6751 unique SEQN numbers in DR1.\n"
     ]
    }
   ],
   "source": [
    "# Compare rows to unique respondent IDs\n",
    "# first get number of rows\n",
    "columns = dr1.shape[0]\n",
    "unique_seqns = dr1['SEQN'].nunique()\n",
    "print(f\"{columns} columns and {unique_seqns} unique SEQN numbers in DR1.\")"
   ]
  },
  {
   "cell_type": "markdown",
   "metadata": {
    "id": "pW9P9alh5UO_"
   },
   "source": [
    "There are far more rows than unique respondents. This is because for each respondent, there is one row for each individual food they consumed.\n",
    "\n",
    "Check out how many unique food codes there are:"
   ]
  },
  {
   "cell_type": "code",
   "execution_count": 32,
   "metadata": {
    "colab": {
     "base_uri": "https://localhost:8080/"
    },
    "executionInfo": {
     "elapsed": 80,
     "status": "ok",
     "timestamp": 1742217653355,
     "user": {
      "displayName": "Christopher Donovan",
      "userId": "08763921350367890499"
     },
     "user_tz": 240
    },
    "id": "hvTiw0nz5nLs",
    "outputId": "4c3573b8-6d10-4d8e-a1cd-4613106e53de"
   },
   "outputs": [
    {
     "name": "stdout",
     "output_type": "stream",
     "text": [
      "There are 3987 unique food codes\n"
     ]
    }
   ],
   "source": [
    "n_codes = dr1['DR1IFDCD'].nunique()\n",
    "print(f\"There are {n_codes} unique food codes\")"
   ]
  },
  {
   "cell_type": "markdown",
   "metadata": {},
   "source": [
    "### Combine DR1 and DR2\n",
    "\n",
    "Combine DR1 and DR2 to lump both days into one dataset"
   ]
  },
  {
   "cell_type": "code",
   "execution_count": 33,
   "metadata": {},
   "outputs": [
    {
     "name": "stdout",
     "output_type": "stream",
     "text": [
      "Index(['SEQN', 'WTDR2D', 'DR1IFDCD', 'DR1IGRMS', 'DR1IKCAL', 'DR1IPROT'], dtype='object')\n",
      "Index(['SEQN', 'WTDR2D', 'DR2IFDCD', 'DR2IGRMS', 'DR2IKCAL', 'DR2IPROT'], dtype='object')\n"
     ]
    }
   ],
   "source": [
    "# Make a list of regex patterns to select columns\n",
    "relevant_cols = ['SEQN','WTDR2D','GRMS$','FDCD$', 'KCAL$', 'PROT$']\n",
    "\n",
    "# Combine patterns, separate with 'or' operator\n",
    "pattern = '|'.join(relevant_cols)\n",
    "\n",
    "# Keep only the selected columns from each DF\n",
    "dr1 = dr1.loc[:, dr1.columns.str.contains(pattern)]\n",
    "dr2 = dr2.loc[:, dr2.columns.str.contains(pattern)]\n",
    "\n",
    "# Check column names\n",
    "print(dr1.columns)\n",
    "print(dr2.columns)"
   ]
  },
  {
   "cell_type": "code",
   "execution_count": 34,
   "metadata": {},
   "outputs": [
    {
     "name": "stdout",
     "output_type": "stream",
     "text": [
      "873 SEQNs missing from DR2 that were in DR1\n",
      "1 SEQNs missing from DR1 that were in DR2\n"
     ]
    }
   ],
   "source": [
    "# Check SEQNs between dr1 and dr2\n",
    "diff = set(dr1['SEQN']).difference(dr2['SEQN'])\n",
    "print(f\"{len(diff)} SEQNs missing from DR2 that were in DR1\")\n",
    "diff2 = set(dr2['SEQN']).difference(dr1['SEQN'])\n",
    "print(f\"{len(diff2)} SEQNs missing from DR1 that were in DR2\")"
   ]
  },
  {
   "cell_type": "markdown",
   "metadata": {},
   "source": [
    "Losing 873 people when we join, but the day 2 weights should account for that"
   ]
  },
  {
   "cell_type": "markdown",
   "metadata": {},
   "source": [
    "Now merge dr1 and dr2"
   ]
  },
  {
   "cell_type": "code",
   "execution_count": 35,
   "metadata": {},
   "outputs": [
    {
     "name": "stdout",
     "output_type": "stream",
     "text": [
      "<class 'pandas.core.frame.DataFrame'>\n",
      "RangeIndex: 1424104 entries, 0 to 1424103\n",
      "Data columns (total 11 columns):\n",
      " #   Column    Non-Null Count    Dtype  \n",
      "---  ------    --------------    -----  \n",
      " 0   SEQN      1424104 non-null  float64\n",
      " 1   WTDR2D_x  1424104 non-null  float64\n",
      " 2   DR1IFDCD  1424104 non-null  float64\n",
      " 3   DR1IGRMS  1420522 non-null  float64\n",
      " 4   DR1IKCAL  1420522 non-null  float64\n",
      " 5   DR1IPROT  1420522 non-null  float64\n",
      " 6   WTDR2D_y  1424104 non-null  float64\n",
      " 7   DR2IFDCD  1424104 non-null  float64\n",
      " 8   DR2IGRMS  1420862 non-null  float64\n",
      " 9   DR2IKCAL  1420862 non-null  float64\n",
      " 10  DR2IPROT  1420862 non-null  float64\n",
      "dtypes: float64(11)\n",
      "memory usage: 119.5 MB\n"
     ]
    }
   ],
   "source": [
    "df = dr1.merge(dr2, on='SEQN', how='inner')\n",
    "df.info()"
   ]
  },
  {
   "cell_type": "markdown",
   "metadata": {},
   "source": [
    "Looks like both datasets have a 2 day weight, and they should be the same. So let's get rid of one"
   ]
  },
  {
   "cell_type": "code",
   "execution_count": 36,
   "metadata": {},
   "outputs": [
    {
     "name": "stdout",
     "output_type": "stream",
     "text": [
      "<class 'pandas.core.frame.DataFrame'>\n",
      "RangeIndex: 1424104 entries, 0 to 1424103\n",
      "Data columns (total 10 columns):\n",
      " #   Column    Non-Null Count    Dtype  \n",
      "---  ------    --------------    -----  \n",
      " 0   SEQN      1424104 non-null  float64\n",
      " 1   WTDR2D    1424104 non-null  float64\n",
      " 2   DR1IFDCD  1424104 non-null  float64\n",
      " 3   DR1IGRMS  1420522 non-null  float64\n",
      " 4   DR1IKCAL  1420522 non-null  float64\n",
      " 5   DR1IPROT  1420522 non-null  float64\n",
      " 6   DR2IFDCD  1424104 non-null  float64\n",
      " 7   DR2IGRMS  1420862 non-null  float64\n",
      " 8   DR2IKCAL  1420862 non-null  float64\n",
      " 9   DR2IPROT  1420862 non-null  float64\n",
      "dtypes: float64(10)\n",
      "memory usage: 108.7 MB\n"
     ]
    }
   ],
   "source": [
    "df = df.drop(columns='WTDR2D_y')\n",
    "df = df.rename(columns={'WTDR2D_x': 'WTDR2D'})\n",
    "df.info()"
   ]
  },
  {
   "cell_type": "markdown",
   "metadata": {
    "id": "tfgbD-yUQn1J"
   },
   "source": [
    "## Add Demographics"
   ]
  },
  {
   "cell_type": "markdown",
   "metadata": {
    "id": "7RoMYTxVQn1J"
   },
   "source": [
    "Load demographic data as xpt:"
   ]
  },
  {
   "cell_type": "code",
   "execution_count": 37,
   "metadata": {
    "colab": {
     "base_uri": "https://localhost:8080/"
    },
    "executionInfo": {
     "elapsed": 868,
     "status": "ok",
     "timestamp": 1742217654239,
     "user": {
      "displayName": "Christopher Donovan",
      "userId": "08763921350367890499"
     },
     "user_tz": 240
    },
    "id": "yWMYQm25Qn1J",
    "outputId": "f98cfb0e-2af3-4ff1-e661-3c994516dfaa"
   },
   "outputs": [
    {
     "name": "stdout",
     "output_type": "stream",
     "text": [
      "<class 'pandas.core.frame.DataFrame'>\n",
      "RangeIndex: 11933 entries, 0 to 11932\n",
      "Data columns (total 27 columns):\n",
      " #   Column    Non-Null Count  Dtype  \n",
      "---  ------    --------------  -----  \n",
      " 0   SEQN      11933 non-null  float64\n",
      " 1   SDDSRVYR  11933 non-null  float64\n",
      " 2   RIDSTATR  11933 non-null  float64\n",
      " 3   RIAGENDR  11933 non-null  float64\n",
      " 4   RIDAGEYR  11933 non-null  float64\n",
      " 5   RIDAGEMN  377 non-null    float64\n",
      " 6   RIDRETH1  11933 non-null  float64\n",
      " 7   RIDRETH3  11933 non-null  float64\n",
      " 8   RIDEXMON  8860 non-null   float64\n",
      " 9   RIDEXAGM  2787 non-null   float64\n",
      " 10  DMQMILIZ  8301 non-null   float64\n",
      " 11  DMDBORN4  11914 non-null  float64\n",
      " 12  DMDYRUSR  1875 non-null   float64\n",
      " 13  DMDEDUC2  7794 non-null   float64\n",
      " 14  DMDMARTZ  7792 non-null   float64\n",
      " 15  RIDEXPRG  1503 non-null   float64\n",
      " 16  DMDHHSIZ  11933 non-null  float64\n",
      " 17  DMDHRGND  4115 non-null   float64\n",
      " 18  DMDHRAGZ  4124 non-null   float64\n",
      " 19  DMDHREDZ  3746 non-null   float64\n",
      " 20  DMDHRMAZ  4020 non-null   float64\n",
      " 21  DMDHSEDZ  2127 non-null   float64\n",
      " 22  WTINT2YR  11933 non-null  float64\n",
      " 23  WTMEC2YR  11933 non-null  float64\n",
      " 24  SDMVSTRA  11933 non-null  float64\n",
      " 25  SDMVPSU   11933 non-null  float64\n",
      " 26  INDFMPIR  9892 non-null   float64\n",
      "dtypes: float64(27)\n",
      "memory usage: 2.5 MB\n"
     ]
    }
   ],
   "source": [
    "demos = pd.read_sas('data/raw/nhanes_2021_2023/DEMO_L.xpt')\n",
    "demos.info()"
   ]
  },
  {
   "cell_type": "markdown",
   "metadata": {
    "id": "qXbnyY6fQn1J"
   },
   "source": [
    "Take the columns SEQN, age, gender, race, education, and ratio of family income to poverty:"
   ]
  },
  {
   "cell_type": "code",
   "execution_count": 38,
   "metadata": {
    "colab": {
     "base_uri": "https://localhost:8080/"
    },
    "executionInfo": {
     "elapsed": 91,
     "status": "ok",
     "timestamp": 1742217654336,
     "user": {
      "displayName": "Christopher Donovan",
      "userId": "08763921350367890499"
     },
     "user_tz": 240
    },
    "id": "-9N3dgwKQn1J",
    "outputId": "3dc113c0-8903-4a3b-8954-a4cec9dbc297"
   },
   "outputs": [
    {
     "name": "stdout",
     "output_type": "stream",
     "text": [
      "<class 'pandas.core.frame.DataFrame'>\n",
      "RangeIndex: 11933 entries, 0 to 11932\n",
      "Data columns (total 6 columns):\n",
      " #   Column    Non-Null Count  Dtype  \n",
      "---  ------    --------------  -----  \n",
      " 0   SEQN      11933 non-null  float64\n",
      " 1   RIAGENDR  11933 non-null  float64\n",
      " 2   RIDAGEYR  11933 non-null  float64\n",
      " 3   RIDRETH3  11933 non-null  float64\n",
      " 4   DMDEDUC2  7794 non-null   float64\n",
      " 5   INDFMPIR  9892 non-null   float64\n",
      "dtypes: float64(6)\n",
      "memory usage: 559.5 KB\n"
     ]
    }
   ],
   "source": [
    "demos = demos[['SEQN', 'RIAGENDR', 'RIDAGEYR', 'RIDRETH3', 'DMDEDUC2', 'INDFMPIR']]\n",
    "demos.info()"
   ]
  },
  {
   "cell_type": "markdown",
   "metadata": {
    "id": "p6jkKxuzQn1M"
   },
   "source": [
    "Merge demographics with our dr1 data frame:"
   ]
  },
  {
   "cell_type": "code",
   "execution_count": 39,
   "metadata": {
    "colab": {
     "base_uri": "https://localhost:8080/"
    },
    "executionInfo": {
     "elapsed": 379,
     "status": "ok",
     "timestamp": 1742217654714,
     "user": {
      "displayName": "Christopher Donovan",
      "userId": "08763921350367890499"
     },
     "user_tz": 240
    },
    "id": "boCk2J4ZQn1M",
    "outputId": "5e1797d1-0cf4-494a-889c-24f69fb1a520"
   },
   "outputs": [
    {
     "name": "stdout",
     "output_type": "stream",
     "text": [
      "<class 'pandas.core.frame.DataFrame'>\n",
      "RangeIndex: 1424104 entries, 0 to 1424103\n",
      "Data columns (total 15 columns):\n",
      " #   Column    Non-Null Count    Dtype  \n",
      "---  ------    --------------    -----  \n",
      " 0   SEQN      1424104 non-null  float64\n",
      " 1   WTDR2D    1424104 non-null  float64\n",
      " 2   DR1IFDCD  1424104 non-null  float64\n",
      " 3   DR1IGRMS  1420522 non-null  float64\n",
      " 4   DR1IKCAL  1420522 non-null  float64\n",
      " 5   DR1IPROT  1420522 non-null  float64\n",
      " 6   DR2IFDCD  1424104 non-null  float64\n",
      " 7   DR2IGRMS  1420862 non-null  float64\n",
      " 8   DR2IKCAL  1420862 non-null  float64\n",
      " 9   DR2IPROT  1420862 non-null  float64\n",
      " 10  RIAGENDR  1424104 non-null  float64\n",
      " 11  RIDAGEYR  1424104 non-null  float64\n",
      " 12  RIDRETH3  1424104 non-null  float64\n",
      " 13  DMDEDUC2  1132657 non-null  float64\n",
      " 14  INDFMPIR  1274465 non-null  float64\n",
      "dtypes: float64(15)\n",
      "memory usage: 163.0 MB\n"
     ]
    }
   ],
   "source": [
    "# Now join our demos with our DR1 data\n",
    "df = df.merge(demos, on='SEQN', how='left')\n",
    "df.info()"
   ]
  },
  {
   "cell_type": "markdown",
   "metadata": {
    "id": "V0tU3Z3U53G5"
   },
   "source": [
    "## Create Variables from FPED\n",
    "\n",
    "To identify the foods from food codes, we join with the Food Patterns Equivalents Database (FPED). This links it to the ~39 USDA food categories that correspond to national dietary recommendations. It also converts from sensible units like grams to American units like cups."
   ]
  },
  {
   "cell_type": "code",
   "execution_count": 40,
   "metadata": {
    "colab": {
     "base_uri": "https://localhost:8080/"
    },
    "executionInfo": {
     "elapsed": 335,
     "status": "ok",
     "timestamp": 1742217655085,
     "user": {
      "displayName": "Christopher Donovan",
      "userId": "08763921350367890499"
     },
     "user_tz": 240
    },
    "id": "93A70Gff59aA",
    "outputId": "8fe1ca8a-0631-4a4a-e7a8-5fce4811e8c2"
   },
   "outputs": [
    {
     "name": "stdout",
     "output_type": "stream",
     "text": [
      "<class 'pandas.core.frame.DataFrame'>\n",
      "RangeIndex: 7444 entries, 0 to 7443\n",
      "Data columns (total 39 columns):\n",
      " #   Column                     Non-Null Count  Dtype  \n",
      "---  ------                     --------------  -----  \n",
      " 0   FOODCODE                   7444 non-null   int64  \n",
      " 1   DESCRIPTION                7444 non-null   object \n",
      " 2   F_TOTAL (cup eq)           7444 non-null   float64\n",
      " 3   F_CITMLB (cup eq)          7444 non-null   float64\n",
      " 4   F_OTHER (cup eq)           7444 non-null   float64\n",
      " 5   F_JUICE (cup eq)           7444 non-null   float64\n",
      " 6   V_TOTAL (cup eq)           7444 non-null   float64\n",
      " 7   V_DRKGR (cup eq)           7444 non-null   float64\n",
      " 8   V_REDOR_TOTAL (cup eq)     7444 non-null   float64\n",
      " 9   V_REDOR_TOMATO (cup eq)    7444 non-null   float64\n",
      " 10  V_REDOR_OTHER (cup eq)     7444 non-null   float64\n",
      " 11  V_STARCHY_TOTAL (cup eq)   7444 non-null   float64\n",
      " 12  V_STARCHY_POTATO (cup eq)  7444 non-null   float64\n",
      " 13  V_STARCHY_OTHER (cup eq)   7444 non-null   float64\n",
      " 14  V_OTHER (cup eq)           7444 non-null   float64\n",
      " 15  V_LEGUMES (cup eq)         7444 non-null   float64\n",
      " 16  G_TOTAL (oz eq)            7444 non-null   float64\n",
      " 17  G_WHOLE (oz eq)            7444 non-null   float64\n",
      " 18  G_REFINED (oz eq)          7444 non-null   float64\n",
      " 19  PF_TOTAL (oz eq)           7444 non-null   float64\n",
      " 20  PF_MPS_TOTAL (oz eq)       7444 non-null   float64\n",
      " 21  PF_MEAT (oz eq)            7444 non-null   float64\n",
      " 22  PF_CUREDMEAT (oz eq)       7444 non-null   float64\n",
      " 23  PF_ORGAN (oz eq)           7444 non-null   float64\n",
      " 24  PF_POULT (oz eq)           7444 non-null   float64\n",
      " 25  PF_SEAFD_HI (oz eq)        7444 non-null   float64\n",
      " 26  PF_SEAFD_LOW (oz eq)       7444 non-null   float64\n",
      " 27  PF_EGGS (oz eq)            7444 non-null   float64\n",
      " 28  PF_SOY (oz eq)             7444 non-null   float64\n",
      " 29  PF_NUTSDS (oz eq)          7444 non-null   float64\n",
      " 30  PF_LEGUMES (oz eq)         7444 non-null   float64\n",
      " 31  D_TOTAL (cup eq)           7444 non-null   float64\n",
      " 32  D_MILK (cup eq)            7444 non-null   float64\n",
      " 33  D_YOGURT (cup eq)          7444 non-null   float64\n",
      " 34  D_CHEESE (cup eq)          7444 non-null   float64\n",
      " 35  OILS (grams)               7444 non-null   float64\n",
      " 36  SOLID_FATS (grams)         7444 non-null   float64\n",
      " 37  ADD_SUGARS (tsp eq)        7444 non-null   float64\n",
      " 38  A_DRINKS (no. of drinks)   7444 non-null   float64\n",
      "dtypes: float64(37), int64(1), object(1)\n",
      "memory usage: 2.2+ MB\n"
     ]
    }
   ],
   "source": [
    "fped = pd.read_csv('data/miscellany/FPED_1720.csv')\n",
    "fped.info()"
   ]
  },
  {
   "cell_type": "markdown",
   "metadata": {
    "id": "Xy2AiwxyQn1I"
   },
   "source": [
    "Get the column names which identify food codes as containing any amount of legumes, nuts/seeds, or soy:"
   ]
  },
  {
   "cell_type": "code",
   "execution_count": 41,
   "metadata": {
    "colab": {
     "base_uri": "https://localhost:8080/"
    },
    "executionInfo": {
     "elapsed": 151,
     "status": "ok",
     "timestamp": 1742217655251,
     "user": {
      "displayName": "Christopher Donovan",
      "userId": "08763921350367890499"
     },
     "user_tz": 240
    },
    "id": "fpGOTnmWQn1I",
    "outputId": "45175a3d-db5d-4a23-9f7b-8380047f59a6"
   },
   "outputs": [
    {
     "name": "stdout",
     "output_type": "stream",
     "text": [
      "['PF_SOY (oz eq)', 'PF_NUTSDS (oz eq)', 'PF_LEGUMES (oz eq)']\n"
     ]
    }
   ],
   "source": [
    "# Keywords we will use to find column names\n",
    "keywords = ['PF_LEGUMES', 'PF_NUTSDS', 'PF_SOY']\n",
    "pbp_columns = [col for col in fped.columns if any(keyword in col for keyword in keywords)]\n",
    "print(pbp_columns)"
   ]
  },
  {
   "cell_type": "markdown",
   "metadata": {
    "id": "p9dq5KsPQn1I"
   },
   "source": [
    "Now identify the food codes that are PBPs:"
   ]
  },
  {
   "cell_type": "code",
   "execution_count": 42,
   "metadata": {
    "colab": {
     "base_uri": "https://localhost:8080/"
    },
    "executionInfo": {
     "elapsed": 2,
     "status": "ok",
     "timestamp": 1742217655253,
     "user": {
      "displayName": "Christopher Donovan",
      "userId": "08763921350367890499"
     },
     "user_tz": 240
    },
    "id": "LXrvp3ACQn1I",
    "outputId": "ab672059-7043-4b10-d02a-9d4e7340275f"
   },
   "outputs": [
    {
     "name": "stdout",
     "output_type": "stream",
     "text": [
      "There are 800 unique PBP food codes\n"
     ]
    }
   ],
   "source": [
    "# Condition is that any one of those columns says the food code has some amount of it\n",
    "condition = (fped[pbp_columns] > 0).any(axis=1)\n",
    "\n",
    "# Filter by the condition\n",
    "pbp_codes = fped.loc[condition, 'FOODCODE']\n",
    "\n",
    "# Print number of unique codes\n",
    "n_codes = len(pbp_codes)\n",
    "print(f'There are {n_codes} unique PBP food codes')"
   ]
  },
  {
   "cell_type": "markdown",
   "metadata": {
    "id": "bbP4DHDXQn1I"
   },
   "source": [
    "Make a column that identifies whether foods are PBPs or not:"
   ]
  },
  {
   "cell_type": "code",
   "execution_count": 43,
   "metadata": {
    "colab": {
     "base_uri": "https://localhost:8080/"
    },
    "executionInfo": {
     "elapsed": 2,
     "status": "ok",
     "timestamp": 1742217655256,
     "user": {
      "displayName": "Christopher Donovan",
      "userId": "08763921350367890499"
     },
     "user_tz": 240
    },
    "id": "UmDcbceYQn1I",
    "outputId": "e71325d6-2489-4f67-9e10-bfa5b4fde2ec"
   },
   "outputs": [
    {
     "name": "stdout",
     "output_type": "stream",
     "text": [
      "<class 'pandas.core.frame.DataFrame'>\n",
      "RangeIndex: 1424104 entries, 0 to 1424103\n",
      "Data columns (total 16 columns):\n",
      " #   Column    Non-Null Count    Dtype  \n",
      "---  ------    --------------    -----  \n",
      " 0   SEQN      1424104 non-null  float64\n",
      " 1   WTDR2D    1424104 non-null  float64\n",
      " 2   DR1IFDCD  1424104 non-null  float64\n",
      " 3   DR1IGRMS  1420522 non-null  float64\n",
      " 4   DR1IKCAL  1420522 non-null  float64\n",
      " 5   DR1IPROT  1420522 non-null  float64\n",
      " 6   DR2IFDCD  1424104 non-null  float64\n",
      " 7   DR2IGRMS  1420862 non-null  float64\n",
      " 8   DR2IKCAL  1420862 non-null  float64\n",
      " 9   DR2IPROT  1420862 non-null  float64\n",
      " 10  RIAGENDR  1424104 non-null  float64\n",
      " 11  RIDAGEYR  1424104 non-null  float64\n",
      " 12  RIDRETH3  1424104 non-null  float64\n",
      " 13  DMDEDUC2  1132657 non-null  float64\n",
      " 14  INDFMPIR  1274465 non-null  float64\n",
      " 15  is_pbp    1424104 non-null  int64  \n",
      "dtypes: float64(15), int64(1)\n",
      "memory usage: 173.8 MB\n"
     ]
    }
   ],
   "source": [
    "df['is_pbp'] = df['DR1IFDCD'].isin(pbp_codes).astype(int)\n",
    "df.info()"
   ]
  },
  {
   "cell_type": "code",
   "execution_count": 44,
   "metadata": {
    "id": "stX4kRMGQn1I"
   },
   "outputs": [
    {
     "name": "stdout",
     "output_type": "stream",
     "text": [
      "Index(['SEQN', 'WTDR2D', 'DR1IFDCD', 'DR1IGRMS', 'DR1IKCAL', 'DR1IPROT',\n",
      "       'DR2IFDCD', 'DR2IGRMS', 'DR2IKCAL', 'DR2IPROT', 'RIAGENDR', 'RIDAGEYR',\n",
      "       'RIDRETH3', 'DMDEDUC2', 'INDFMPIR', 'is_pbp', 'grams_pbp_d1',\n",
      "       'grams_pbp_d2', 'grams_pbp_total'],\n",
      "      dtype='object')\n",
      "(1424104, 19)\n"
     ]
    }
   ],
   "source": [
    "# Make another new column that just multiplies grams by is_bpl\n",
    "# so it is 0 if not bpl, or the number of grams if it is\n",
    "df['grams_pbp_d1'] = np.where(df['is_pbp'] == True, df['DR1IGRMS'], 0)\n",
    "df['grams_pbp_d2'] = np.where(df['is_pbp'] == True, df['DR2IGRMS'], 0)\n",
    "df['grams_pbp_total'] = df['grams_pbp_d1'] + df['grams_pbp_d2']\n",
    "print(df.columns)\n",
    "print(df.shape)"
   ]
  },
  {
   "cell_type": "markdown",
   "metadata": {
    "id": "6G8DvEYyQn1N"
   },
   "source": [
    "Group the dietary recall data by SEQN to get totals of consumption for each person. Also creating variables for the proportion of consumption (grams) of PBPs out of total consumption (grams) for the day:"
   ]
  },
  {
   "cell_type": "code",
   "execution_count": 45,
   "metadata": {
    "colab": {
     "base_uri": "https://localhost:8080/"
    },
    "executionInfo": {
     "elapsed": 43,
     "status": "ok",
     "timestamp": 1742217655304,
     "user": {
      "displayName": "Christopher Donovan",
      "userId": "08763921350367890499"
     },
     "user_tz": 240
    },
    "id": "aFihLaFWQn1N",
    "outputId": "ed64c681-b0c2-4407-a118-6e1f0d02ad81"
   },
   "outputs": [
    {
     "name": "stdout",
     "output_type": "stream",
     "text": [
      "<class 'pandas.core.frame.DataFrame'>\n",
      "Index: 5878 entries, 130378.0 to 142310.0\n",
      "Data columns (total 13 columns):\n",
      " #   Column               Non-Null Count  Dtype  \n",
      "---  ------               --------------  -----  \n",
      " 0   weight_2d            5878 non-null   float64\n",
      " 1   grams_d1             5878 non-null   float64\n",
      " 2   grams_d2             5878 non-null   float64\n",
      " 3   pbp_grams_d1         5878 non-null   float64\n",
      " 4   pbp_grams_d2         5878 non-null   float64\n",
      " 5   age                  5878 non-null   float64\n",
      " 6   gender               5878 non-null   float64\n",
      " 7   education            4284 non-null   float64\n",
      " 8   race                 5878 non-null   float64\n",
      " 9   income_ratio         5212 non-null   float64\n",
      " 10  total_grams          5878 non-null   float64\n",
      " 11  total_pbp_grams      5878 non-null   float64\n",
      " 12  prop_grams_from_pbp  5871 non-null   float64\n",
      "dtypes: float64(13)\n",
      "memory usage: 642.9 KB\n",
      "None\n"
     ]
    }
   ],
   "source": [
    "# Group by SEQN to get summary stats for consumption of each person\n",
    "# For grams, we are adding up the sums of total and bpl grams\n",
    "# For everything else, just take first value because it should be same among everyone\n",
    "# Would have been easier to just make smaller DF and then join it.\n",
    "# But this already happened\n",
    "dat = df.groupby('SEQN').agg(\n",
    "  weight_2d=('WTDR2D', 'first'),\n",
    "  grams_d1=('DR1IGRMS', 'sum'),\n",
    "  grams_d2=('DR2IGRMS', 'sum'),\n",
    "  pbp_grams_d1=('grams_pbp_d1', 'sum'),\n",
    "  pbp_grams_d2=('grams_pbp_d2', 'sum'),\n",
    "  age=('RIDAGEYR', 'first'),\n",
    "  gender=('RIAGENDR', 'first'),\n",
    "  education=('DMDEDUC2', 'first'),\n",
    "  race=('RIDRETH3', 'first'),\n",
    "  income_ratio=('INDFMPIR', 'first')\n",
    ")\n",
    "\n",
    "# Add total grams, total pbp grams\n",
    "dat['total_grams'] = dat['grams_d1'] + dat['grams_d2']\n",
    "dat['total_pbp_grams'] = dat['pbp_grams_d1'] + dat['pbp_grams_d2']\n",
    "\n",
    "# One more thing - percentage of bpl grams to total grams for each person\n",
    "dat['prop_grams_from_pbp'] = dat['total_pbp_grams'] / dat['total_grams']\n",
    "print(dat.info())"
   ]
  },
  {
   "cell_type": "markdown",
   "metadata": {
    "id": "fpvQstnMQn1N"
   },
   "source": [
    "Recode demographic variables. Coding schemes are available at the NHANES website in the documentation beside each dataset. We are splitting the income to poverty ratio into quartiles."
   ]
  },
  {
   "cell_type": "code",
   "execution_count": 46,
   "metadata": {
    "colab": {
     "base_uri": "https://localhost:8080/",
     "height": 341
    },
    "executionInfo": {
     "elapsed": 133,
     "status": "ok",
     "timestamp": 1742217655436,
     "user": {
      "displayName": "Christopher Donovan",
      "userId": "08763921350367890499"
     },
     "user_tz": 240
    },
    "id": "4oRyX3nxQn1N",
    "outputId": "c23c5806-28e4-4d00-c7c2-979dc9654640"
   },
   "outputs": [
    {
     "data": {
      "text/html": [
       "<div>\n",
       "<style scoped>\n",
       "    .dataframe tbody tr th:only-of-type {\n",
       "        vertical-align: middle;\n",
       "    }\n",
       "\n",
       "    .dataframe tbody tr th {\n",
       "        vertical-align: top;\n",
       "    }\n",
       "\n",
       "    .dataframe thead th {\n",
       "        text-align: right;\n",
       "    }\n",
       "</style>\n",
       "<table border=\"1\" class=\"dataframe\">\n",
       "  <thead>\n",
       "    <tr style=\"text-align: right;\">\n",
       "      <th></th>\n",
       "      <th>weight_2d</th>\n",
       "      <th>grams_d1</th>\n",
       "      <th>grams_d2</th>\n",
       "      <th>pbp_grams_d1</th>\n",
       "      <th>pbp_grams_d2</th>\n",
       "      <th>age</th>\n",
       "      <th>gender</th>\n",
       "      <th>education</th>\n",
       "      <th>race</th>\n",
       "      <th>income_ratio</th>\n",
       "      <th>total_grams</th>\n",
       "      <th>total_pbp_grams</th>\n",
       "      <th>prop_grams_from_pbp</th>\n",
       "      <th>income_ratio_qs</th>\n",
       "    </tr>\n",
       "    <tr>\n",
       "      <th>SEQN</th>\n",
       "      <th></th>\n",
       "      <th></th>\n",
       "      <th></th>\n",
       "      <th></th>\n",
       "      <th></th>\n",
       "      <th></th>\n",
       "      <th></th>\n",
       "      <th></th>\n",
       "      <th></th>\n",
       "      <th></th>\n",
       "      <th></th>\n",
       "      <th></th>\n",
       "      <th></th>\n",
       "      <th></th>\n",
       "    </tr>\n",
       "  </thead>\n",
       "  <tbody>\n",
       "    <tr>\n",
       "      <th>130378.0</th>\n",
       "      <td>70554.222162</td>\n",
       "      <td>36620.80</td>\n",
       "      <td>37284.40</td>\n",
       "      <td>0.0</td>\n",
       "      <td>0.00</td>\n",
       "      <td>43.0</td>\n",
       "      <td>Male</td>\n",
       "      <td>College graduate or above</td>\n",
       "      <td>Other or Multi</td>\n",
       "      <td>5.00</td>\n",
       "      <td>73905.20</td>\n",
       "      <td>0.00</td>\n",
       "      <td>0.000000</td>\n",
       "      <td>(4.92, 5.0]</td>\n",
       "    </tr>\n",
       "    <tr>\n",
       "      <th>130379.0</th>\n",
       "      <td>36505.468348</td>\n",
       "      <td>93959.00</td>\n",
       "      <td>87899.91</td>\n",
       "      <td>0.0</td>\n",
       "      <td>0.00</td>\n",
       "      <td>66.0</td>\n",
       "      <td>Male</td>\n",
       "      <td>College graduate or above</td>\n",
       "      <td>White</td>\n",
       "      <td>5.00</td>\n",
       "      <td>181858.91</td>\n",
       "      <td>0.00</td>\n",
       "      <td>0.000000</td>\n",
       "      <td>(4.92, 5.0]</td>\n",
       "    </tr>\n",
       "    <tr>\n",
       "      <th>130380.0</th>\n",
       "      <td>103979.190677</td>\n",
       "      <td>72600.00</td>\n",
       "      <td>71622.72</td>\n",
       "      <td>0.0</td>\n",
       "      <td>0.00</td>\n",
       "      <td>44.0</td>\n",
       "      <td>Female</td>\n",
       "      <td>High school/GED</td>\n",
       "      <td>Other Hispanic</td>\n",
       "      <td>1.41</td>\n",
       "      <td>144222.72</td>\n",
       "      <td>0.00</td>\n",
       "      <td>0.000000</td>\n",
       "      <td>(1.34, 2.77]</td>\n",
       "    </tr>\n",
       "    <tr>\n",
       "      <th>130381.0</th>\n",
       "      <td>75009.220819</td>\n",
       "      <td>33921.80</td>\n",
       "      <td>25796.82</td>\n",
       "      <td>195.5</td>\n",
       "      <td>1228.42</td>\n",
       "      <td>5.0</td>\n",
       "      <td>Female</td>\n",
       "      <td>Don't know</td>\n",
       "      <td>Other or Multi</td>\n",
       "      <td>1.53</td>\n",
       "      <td>59718.62</td>\n",
       "      <td>1423.92</td>\n",
       "      <td>0.023844</td>\n",
       "      <td>(1.34, 2.77]</td>\n",
       "    </tr>\n",
       "    <tr>\n",
       "      <th>130382.0</th>\n",
       "      <td>172361.851828</td>\n",
       "      <td>16873.78</td>\n",
       "      <td>27986.94</td>\n",
       "      <td>1232.0</td>\n",
       "      <td>1554.83</td>\n",
       "      <td>2.0</td>\n",
       "      <td>Male</td>\n",
       "      <td>Don't know</td>\n",
       "      <td>White</td>\n",
       "      <td>3.60</td>\n",
       "      <td>44860.72</td>\n",
       "      <td>2786.83</td>\n",
       "      <td>0.062122</td>\n",
       "      <td>(2.77, 4.92]</td>\n",
       "    </tr>\n",
       "  </tbody>\n",
       "</table>\n",
       "</div>"
      ],
      "text/plain": [
       "              weight_2d  grams_d1  grams_d2  pbp_grams_d1  pbp_grams_d2   age  \\\n",
       "SEQN                                                                            \n",
       "130378.0   70554.222162  36620.80  37284.40           0.0          0.00  43.0   \n",
       "130379.0   36505.468348  93959.00  87899.91           0.0          0.00  66.0   \n",
       "130380.0  103979.190677  72600.00  71622.72           0.0          0.00  44.0   \n",
       "130381.0   75009.220819  33921.80  25796.82         195.5       1228.42   5.0   \n",
       "130382.0  172361.851828  16873.78  27986.94        1232.0       1554.83   2.0   \n",
       "\n",
       "          gender                  education            race  income_ratio  \\\n",
       "SEQN                                                                        \n",
       "130378.0    Male  College graduate or above  Other or Multi          5.00   \n",
       "130379.0    Male  College graduate or above           White          5.00   \n",
       "130380.0  Female            High school/GED  Other Hispanic          1.41   \n",
       "130381.0  Female                 Don't know  Other or Multi          1.53   \n",
       "130382.0    Male                 Don't know           White          3.60   \n",
       "\n",
       "          total_grams  total_pbp_grams  prop_grams_from_pbp income_ratio_qs  \n",
       "SEQN                                                                         \n",
       "130378.0     73905.20             0.00             0.000000     (4.92, 5.0]  \n",
       "130379.0    181858.91             0.00             0.000000     (4.92, 5.0]  \n",
       "130380.0    144222.72             0.00             0.000000    (1.34, 2.77]  \n",
       "130381.0     59718.62          1423.92             0.023844    (1.34, 2.77]  \n",
       "130382.0     44860.72          2786.83             0.062122    (2.77, 4.92]  "
      ]
     },
     "execution_count": 46,
     "metadata": {},
     "output_type": "execute_result"
    }
   ],
   "source": [
    "# Gender\n",
    "dat['gender'] = dat['gender'].apply(lambda x: ('Female' if x == 2 else 'Male'))\n",
    "\n",
    "# Education\n",
    "dat['education'] = dat['education'].apply(\n",
    "  lambda x: (\n",
    "    'Less than 9th grade' if x == 1\n",
    "    else '9th to 11th grade' if x == 2\n",
    "    else 'High school/GED' if x == 3\n",
    "    else 'Some college or AA' if x == 4\n",
    "    else 'College graduate or above' if x == 5\n",
    "    else \"Don\\'t know\"\n",
    "  )\n",
    ")\n",
    "\n",
    "# Race\n",
    "dat['race'] = dat['race'].apply(\n",
    "  lambda x: (\n",
    "    'Mexican American' if x == 1\n",
    "    else 'Other Hispanic' if x == 2\n",
    "    else 'White' if x == 3\n",
    "    else 'Black' if x == 4\n",
    "    else 'Asian' if x == 5\n",
    "    else 'Other or Multi'\n",
    "  )\n",
    ")\n",
    "\n",
    "# Income to poverty ratio\n",
    "dat['income_ratio_qs'] = pd.qcut(\n",
    "  x = dat['income_ratio'],\n",
    "  q = 4,\n",
    "  duplicates='drop'\n",
    ")\n",
    "dat.head()"
   ]
  },
  {
   "cell_type": "markdown",
   "metadata": {
    "id": "xsDUmZf7Qn1N"
   },
   "source": [
    "This is our cleanish data for exploratory stuff. Note that we are only looking at day 1, which is not the ultimate plan. NHANES recommends using both days and combining at least 2 waves of data for a cross-sectional study."
   ]
  },
  {
   "cell_type": "code",
   "execution_count": 47,
   "metadata": {
    "colab": {
     "base_uri": "https://localhost:8080/"
    },
    "executionInfo": {
     "elapsed": 4,
     "status": "ok",
     "timestamp": 1742217655436,
     "user": {
      "displayName": "Christopher Donovan",
      "userId": "08763921350367890499"
     },
     "user_tz": 240
    },
    "id": "2vS7it1yQn1N",
    "outputId": "8c7dfc04-5da4-47f1-9d80-273fe0c2ab23"
   },
   "outputs": [
    {
     "name": "stdout",
     "output_type": "stream",
     "text": [
      "<class 'pandas.core.frame.DataFrame'>\n",
      "Index: 5878 entries, 130378.0 to 142310.0\n",
      "Data columns (total 14 columns):\n",
      " #   Column               Non-Null Count  Dtype   \n",
      "---  ------               --------------  -----   \n",
      " 0   weight_2d            5878 non-null   float64 \n",
      " 1   grams_d1             5878 non-null   float64 \n",
      " 2   grams_d2             5878 non-null   float64 \n",
      " 3   pbp_grams_d1         5878 non-null   float64 \n",
      " 4   pbp_grams_d2         5878 non-null   float64 \n",
      " 5   age                  5878 non-null   float64 \n",
      " 6   gender               5878 non-null   object  \n",
      " 7   education            5878 non-null   object  \n",
      " 8   race                 5878 non-null   object  \n",
      " 9   income_ratio         5212 non-null   float64 \n",
      " 10  total_grams          5878 non-null   float64 \n",
      " 11  total_pbp_grams      5878 non-null   float64 \n",
      " 12  prop_grams_from_pbp  5871 non-null   float64 \n",
      " 13  income_ratio_qs      5212 non-null   category\n",
      "dtypes: category(1), float64(10), object(3)\n",
      "memory usage: 648.9+ KB\n"
     ]
    }
   ],
   "source": [
    "dat.info()"
   ]
  },
  {
   "cell_type": "markdown",
   "metadata": {
    "id": "X3RCs3bkRitx"
   },
   "source": [
    "Let's also save this as a csv so we can play around with it elsewhere:"
   ]
  },
  {
   "cell_type": "code",
   "execution_count": 48,
   "metadata": {
    "id": "uPAMd1gzRl4j"
   },
   "outputs": [],
   "source": [
    "dat.to_csv('data/clean/dr1_data_2021_2023.csv')"
   ]
  },
  {
   "cell_type": "markdown",
   "metadata": {
    "id": "btI51yPqQn1N"
   },
   "source": [
    "## Graphs"
   ]
  },
  {
   "cell_type": "code",
   "execution_count": 49,
   "metadata": {
    "id": "TnARSDeTQn1N"
   },
   "outputs": [],
   "source": [
    "import seaborn as sns\n",
    "import matplotlib.pyplot as plt"
   ]
  },
  {
   "cell_type": "markdown",
   "metadata": {
    "id": "qU5GfkAnS2_0"
   },
   "source": [
    "Set a common theme for our plots:"
   ]
  },
  {
   "cell_type": "code",
   "execution_count": 50,
   "metadata": {
    "id": "7Yb-9_GfS15W"
   },
   "outputs": [],
   "source": [
    "custom_params = {\n",
    "    \"axes.spines.right\": False,\n",
    "    \"axes.spines.top\": False,\n",
    "    \"figure.figsize\": (6, 6)\n",
    "}\n",
    "sns.set_theme(style=\"ticks\", rc=custom_params)"
   ]
  },
  {
   "cell_type": "markdown",
   "metadata": {
    "id": "GKMzr-WTQn1N"
   },
   "source": [
    "PBP consumption by gender. Note that we are using the 2-day weights"
   ]
  },
  {
   "cell_type": "code",
   "execution_count": null,
   "metadata": {},
   "outputs": [
    {
     "name": "stdout",
     "output_type": "stream",
     "text": [
      "<class 'pandas.core.frame.DataFrame'>\n",
      "Index: 5878 entries, 130378.0 to 142310.0\n",
      "Data columns (total 14 columns):\n",
      " #   Column               Non-Null Count  Dtype   \n",
      "---  ------               --------------  -----   \n",
      " 0   weight_2d            5878 non-null   float64 \n",
      " 1   grams_d1             5878 non-null   float64 \n",
      " 2   grams_d2             5878 non-null   float64 \n",
      " 3   pbp_grams_d1         5878 non-null   float64 \n",
      " 4   pbp_grams_d2         5878 non-null   float64 \n",
      " 5   age                  5878 non-null   float64 \n",
      " 6   gender               5878 non-null   object  \n",
      " 7   education            5878 non-null   object  \n",
      " 8   race                 5878 non-null   object  \n",
      " 9   income_ratio         5212 non-null   float64 \n",
      " 10  total_grams          5878 non-null   float64 \n",
      " 11  total_pbp_grams      5878 non-null   float64 \n",
      " 12  prop_grams_from_pbp  5871 non-null   float64 \n",
      " 13  income_ratio_qs      5212 non-null   category\n",
      "dtypes: category(1), float64(10), object(3)\n",
      "memory usage: 648.9+ KB\n"
     ]
    }
   ],
   "source": [
    "dat.info()"
   ]
  },
  {
   "cell_type": "code",
   "execution_count": 52,
   "metadata": {
    "colab": {
     "base_uri": "https://localhost:8080/",
     "height": 601
    },
    "executionInfo": {
     "elapsed": 842,
     "status": "ok",
     "timestamp": 1742218342073,
     "user": {
      "displayName": "Christopher Donovan",
      "userId": "08763921350367890499"
     },
     "user_tz": 240
    },
    "id": "mavLEYpmQn1N",
    "outputId": "2907e4b9-4253-4c97-ffa9-15ef5700092a"
   },
   "outputs": [
    {
     "data": {
      "image/png": "[encoded data removed]",
      "text/plain": [
       "<Figure size 600x600 with 1 Axes>"
      ]
     },
     "metadata": {},
     "output_type": "display_data"
    }
   ],
   "source": [
    "# pbp consumption by gender\n",
    "ax = sns.barplot(\n",
    "  data=dat,\n",
    "  y='prop_grams_from_pbp',\n",
    "  x='education',\n",
    "  hue='gender',\n",
    "  order=[\n",
    "    \"Don't know\",\n",
    "    'Less than 9th grade',\n",
    "    'High school/GED',\n",
    "    'Some college or AA',\n",
    "    'College graduate or above'\n",
    "  ],\n",
    "  weights='weight_2d',\n",
    "  errorbar=('ci', 95)\n",
    ")\n",
    "ax.set(\n",
    "  ylabel = 'Proportion of grams from PBP',\n",
    "  xlabel = 'Education',\n",
    "  title = 'PBP Consumption by Education and Gender'\n",
    ")\n",
    "plt.xticks(rotation=45)\n",
    "\n",
    "# Save plot\n",
    "plt.tight_layout()\n",
    "plt.savefig('outputs/checkin_1/pbp_consumption_by_education.png')\n",
    "\n",
    "plt.show()\n",
    "# Would like to adjust names horizontally to line up better after rotation, hjust arg?"
   ]
  },
  {
   "cell_type": "markdown",
   "metadata": {
    "id": "Fippk22im8Pc"
   },
   "source": [
    "Let's see what happens if we make the same graph without survey weights:"
   ]
  },
  {
   "cell_type": "code",
   "execution_count": 53,
   "metadata": {
    "colab": {
     "base_uri": "https://localhost:8080/",
     "height": 713
    },
    "executionInfo": {
     "elapsed": 523,
     "status": "ok",
     "timestamp": 1742218279639,
     "user": {
      "displayName": "Christopher Donovan",
      "userId": "08763921350367890499"
     },
     "user_tz": 240
    },
    "id": "6aL8L5htmlcp",
    "outputId": "f7861200-054b-49a4-c87d-01dda71d780a"
   },
   "outputs": [
    {
     "data": {
      "image/png": "[encoded data removed]",
      "text/plain": [
       "<Figure size 600x600 with 1 Axes>"
      ]
     },
     "metadata": {},
     "output_type": "display_data"
    }
   ],
   "source": [
    "# pbp consumption by gender\n",
    "ax = sns.barplot(\n",
    "  data=dat,\n",
    "  y='prop_grams_from_pbp',\n",
    "  x='education',\n",
    "  hue='gender',\n",
    "  order=[\n",
    "    \"Don't know\",\n",
    "    'Less than 9th grade',\n",
    "    'High school/GED',\n",
    "    'Some college or AA',\n",
    "    'College graduate or above'\n",
    "  ],\n",
    "  # weights='weight_2d',\n",
    "  errorbar=('ci', 95)\n",
    ")\n",
    "ax.set(\n",
    "  ylabel = 'Percentage of grams from PBP',\n",
    "  xlabel = 'Education',\n",
    "  title = 'PBP Consumption by Education and Gender - NO WEIGHTS'\n",
    ")\n",
    "plt.xticks(rotation=45)\n",
    "plt.show()\n",
    "# Would like to adjust names horizontally to line up better after rotation, hjust arg?"
   ]
  },
  {
   "cell_type": "markdown",
   "metadata": {
    "id": "FqEkEliJnEuC"
   },
   "source": [
    "Observe. It is different."
   ]
  },
  {
   "cell_type": "code",
   "execution_count": 54,
   "metadata": {
    "colab": {
     "base_uri": "https://localhost:8080/",
     "height": 601
    },
    "executionInfo": {
     "elapsed": 836,
     "status": "ok",
     "timestamp": 1742218284327,
     "user": {
      "displayName": "Christopher Donovan",
      "userId": "08763921350367890499"
     },
     "user_tz": 240
    },
    "id": "hqw_DZFLQn1O",
    "outputId": "2552b055-2e36-410e-c1de-6f86b91dca41"
   },
   "outputs": [
    {
     "data": {
      "image/png": "[encoded data removed]",
      "text/plain": [
       "<Figure size 600x600 with 1 Axes>"
      ]
     },
     "metadata": {},
     "output_type": "display_data"
    }
   ],
   "source": [
    "# pbp consumption by race\n",
    "ax = sns.barplot(\n",
    "  data=dat,\n",
    "  y='prop_grams_from_pbp',\n",
    "  x='race',\n",
    "  hue='gender',\n",
    "  weights='weight_2d',\n",
    "  errorbar=('ci', 95)\n",
    ")\n",
    "ax.set(\n",
    "  xlabel = 'Race',\n",
    "  ylabel = 'Percentage of grams from PBP',\n",
    "  title = 'PBP as Proportion of Consumption by Race and Gender'\n",
    ")\n",
    "plt.xticks(rotation=45)\n",
    "plt.tight_layout()\n",
    "\n",
    "# Save it\n",
    "plt.savefig('outputs/checkin_1/pbp_consumption_by_race.png')\n",
    "\n",
    "# Show it\n",
    "plt.show()"
   ]
  },
  {
   "cell_type": "code",
   "execution_count": 55,
   "metadata": {
    "colab": {
     "base_uri": "https://localhost:8080/",
     "height": 601
    },
    "executionInfo": {
     "elapsed": 971,
     "status": "ok",
     "timestamp": 1742218084944,
     "user": {
      "displayName": "Christopher Donovan",
      "userId": "08763921350367890499"
     },
     "user_tz": 240
    },
    "id": "WUhU4I8QQn1O",
    "outputId": "da0b6cf2-28b1-44c9-d54b-7759fcd0e8b2"
   },
   "outputs": [
    {
     "data": {
      "image/png": "[encoded data removed]",
      "text/plain": [
       "<Figure size 600x600 with 1 Axes>"
      ]
     },
     "metadata": {},
     "output_type": "display_data"
    }
   ],
   "source": [
    "# pbp consumption by poverty ratio\n",
    "ax = sns.barplot(\n",
    "  data=dat,\n",
    "  y='prop_grams_from_pbp',\n",
    "  x='income_ratio_qs',\n",
    "  hue='gender',\n",
    "  weights='weight_2d',\n",
    "  errorbar=('ci', 95)\n",
    ")\n",
    "ax.set(\n",
    "  xlabel = 'Quartiles of Income to Poverty Ratio',\n",
    "  ylabel = 'Percentage of grams from PBP',\n",
    "  title = 'PBP as Proportion of Consumption by Income and Gender'\n",
    ")\n",
    "plt.xticks(rotation=45)\n",
    "plt.tight_layout()\n",
    "\n",
    "# Save it\n",
    "plt.savefig('outputs/checkin_1/pbp_consumption_by_income.png')\n",
    "\n",
    "# Show it\n",
    "plt.show()"
   ]
  }
 ],
 "metadata": {
  "colab": {
   "provenance": [],
   "toc_visible": true
  },
  "kernelspec": {
   "display_name": "Python 3",
   "language": "python",
   "name": "python3"
  },
  "language_info": {
   "codemirror_mode": {
    "name": "ipython",
    "version": 3
   },
   "file_extension": ".py",
   "mimetype": "text/x-python",
   "name": "python",
   "nbconvert_exporter": "python",
   "pygments_lexer": "ipython3",
   "version": "3.13.0"
  }
 },
 "nbformat": 4,
 "nbformat_minor": 0
}
